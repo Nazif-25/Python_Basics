{
  "nbformat": 4,
  "nbformat_minor": 0,
  "metadata": {
    "colab": {
      "provenance": [],
      "authorship_tag": "ABX9TyO0T2VruNlN5WYFyfy9pRgq",
      "include_colab_link": true
    },
    "kernelspec": {
      "name": "python3",
      "display_name": "Python 3"
    },
    "language_info": {
      "name": "python"
    }
  },
  "cells": [
    {
      "cell_type": "markdown",
      "metadata": {
        "id": "view-in-github",
        "colab_type": "text"
      },
      "source": [
        "<a href=\"https://colab.research.google.com/github/Nazif-25/Python_Basics/blob/main/Graphs.ipynb\" target=\"_parent\"><img src=\"https://colab.research.google.com/assets/colab-badge.svg\" alt=\"Open In Colab\"/></a>"
      ]
    },
    {
      "cell_type": "code",
      "source": [
        "import numpy as np"
      ],
      "metadata": {
        "id": "7pFZ7MesGWPL"
      },
      "execution_count": 12,
      "outputs": []
    },
    {
      "cell_type": "markdown",
      "source": [
        "#Queue"
      ],
      "metadata": {
        "id": "KQKjPYgToBQR"
      }
    },
    {
      "cell_type": "code",
      "source": [
        "class Node:\n",
        "    def __init__(self, elem):\n",
        "        self.elem = elem\n",
        "        self.next = None\n",
        "\n",
        "class Queue:\n",
        "    def __init__(self):\n",
        "        self.front = self.rear = None\n",
        "\n",
        "    def enqueue(self, elem):\n",
        "        new_node = Node(elem)\n",
        "        if self.rear is None:\n",
        "            self.front = self.rear = new_node\n",
        "            return\n",
        "        self.rear.next = new_node\n",
        "        self.rear = new_node\n",
        "\n",
        "    def dequeue(self):\n",
        "        if self.is_empty():\n",
        "            raise IndexError(\"Queue is empty\")\n",
        "        removed_elem = self.front.elem\n",
        "        self.front = self.front.next\n",
        "        if self.front is None:\n",
        "            self.rear = None\n",
        "        return removed_elem\n",
        "\n",
        "    def peek(self):\n",
        "        if self.is_empty():\n",
        "            raise IndexError(\"Queue is empty\")\n",
        "        return self.front.elem\n",
        "\n",
        "    def is_empty(self):\n",
        "        return self.front is None"
      ],
      "metadata": {
        "id": "JdD3lNx7n_mn"
      },
      "execution_count": 2,
      "outputs": []
    },
    {
      "cell_type": "markdown",
      "source": [
        "#Stack"
      ],
      "metadata": {
        "id": "u8CI4Dn5oS0e"
      }
    },
    {
      "cell_type": "code",
      "source": [
        "class Stack:\n",
        "    def __init__(self):\n",
        "        self.top = None\n",
        "\n",
        "    def push(self, elem):\n",
        "        new_node = Node(elem)\n",
        "        new_node.next = self.top\n",
        "        self.top = new_node\n",
        "\n",
        "    def pop(self):\n",
        "        if self.is_empty():\n",
        "            raise IndexError(\"Stack is empty\")\n",
        "        popped_elem = self.top.elem\n",
        "        self.top = self.top.next\n",
        "        return popped_elem\n",
        "\n",
        "    def peek(self):\n",
        "        if self.is_empty():\n",
        "            raise IndexError(\"Stack is empty\")\n",
        "        return self.top.elem\n",
        "\n",
        "    def is_empty(self):\n",
        "        return self.top is None"
      ],
      "metadata": {
        "id": "aL6eb79AoUEw"
      },
      "execution_count": 9,
      "outputs": []
    },
    {
      "cell_type": "markdown",
      "source": [
        "#Graphs"
      ],
      "metadata": {
        "id": "0FwQWRGMoWGt"
      }
    },
    {
      "cell_type": "code",
      "source": [
        "# adjacency matrix\n",
        "import numpy as np\n",
        "def create_matrix():\n",
        "    # here graph is a matrix\n",
        "    graph = np.zeros((5,5), dtype = int)\n",
        "    # matrix[row][col] = edge_weight\n",
        "    graph[0][2] = 15\n",
        "    graph[0][4] = 7\n",
        "    graph[1][2] = 10\n",
        "    graph[1][3] = 19\n",
        "    graph[1][4] = 12\n",
        "    graph[2][0] = 15\n",
        "    graph[2][1] = 10\n",
        "    graph[2][3] = 20\n",
        "    graph[3][1] = 19\n",
        "    graph[3][2] = 20\n",
        "    graph[3][4] = 8\n",
        "    graph[4][0] = 7\n",
        "    graph[4][1] = 12\n",
        "    graph[4][3] = 8\n",
        "    return graph"
      ],
      "metadata": {
        "id": "i8hdtKPWr5lj"
      },
      "execution_count": 10,
      "outputs": []
    },
    {
      "cell_type": "code",
      "source": [
        "graph = create_matrix()\n",
        "print(graph)"
      ],
      "metadata": {
        "colab": {
          "base_uri": "https://localhost:8080/"
        },
        "id": "DI-uT54Lsn-8",
        "outputId": "20f7080b-2f3e-4230-fa43-ec57e739ff89"
      },
      "execution_count": 15,
      "outputs": [
        {
          "output_type": "stream",
          "name": "stdout",
          "text": [
            "[[ 0  0 15  0  7]\n",
            " [ 0  0 10 19 12]\n",
            " [15 10  0 20  0]\n",
            " [ 0 19 20  0  8]\n",
            " [ 7 12  0  8  0]]\n"
          ]
        }
      ]
    },
    {
      "cell_type": "code",
      "source": [
        "#      0  1  2  3  4\n",
        "# 0 [[ 0  0 15  0  7]\n",
        "# 1  [ 0  0 10 19 12]\n",
        "# 2  [15 10  0 20  0]\n",
        "# 3  [ 0 19 20  0  8]\n",
        "# 4  [ 7 12  0  8  0]]\n",
        "# vertex 1 has no connections with 0 or itself\n",
        "# vertex 1 has connections with 2 with weight 10\n",
        "\n",
        "# the degree of a vertex is the number of edges connected to that vertex\n",
        "# degree of 1 is 3\n",
        "# if we iterate row 1 then we get degree of vertex 1"
      ],
      "metadata": {
        "id": "O1CyZpyLLR8a"
      },
      "execution_count": null,
      "outputs": []
    },
    {
      "cell_type": "markdown",
      "source": [
        "#DFS"
      ],
      "metadata": {
        "id": "rQdVZgNezaDi"
      }
    },
    {
      "cell_type": "code",
      "source": [
        "def DFS(graph, start):\n",
        "    total_vertex = len(graph)\n",
        "    visited = np.array([False]*total_vertex)\n",
        "    S = Stack()\n",
        "    visited[start] = True\n",
        "    S.push(start)\n",
        "    while S.is_empty() == False:\n",
        "        u = S.pop()\n",
        "        print(u)\n",
        "        for v in range(total_vertex):\n",
        "            if graph[u][v] != 0 and visited[v] == False:\n",
        "                visited[v] = True\n",
        "                S.push(v)\n",
        "DFS(graph, 2)\n"
      ],
      "metadata": {
        "colab": {
          "base_uri": "https://localhost:8080/"
        },
        "id": "6InZLPI-zfkt",
        "outputId": "a7366c1a-f195-4ff4-e738-d57776ad393e"
      },
      "execution_count": 18,
      "outputs": [
        {
          "output_type": "stream",
          "name": "stdout",
          "text": [
            "2\n",
            "3\n",
            "4\n",
            "1\n",
            "0\n"
          ]
        }
      ]
    },
    {
      "cell_type": "markdown",
      "source": [
        "#BFS"
      ],
      "metadata": {
        "id": "KGQjfUADogGu"
      }
    },
    {
      "cell_type": "code",
      "source": [
        "def BFS(graph, start):\n",
        "    total_vertex = len(graph)\n",
        "    visited = np.array([False]*total_vertex)\n",
        "    Q = Queue()\n",
        "    visited[start] = True\n",
        "    Q.enqueue(start)\n",
        "    while Q.is_empty() == False:\n",
        "        u = Q.dequeue()\n",
        "        print(u)\n",
        "        for v in range(total_vertex):\n",
        "            if graph[u][v] != 0 and visited[v] == False:\n",
        "                visited[v] = True\n",
        "                Q.enqueue(v)\n",
        "BFS(graph, 2)"
      ],
      "metadata": {
        "colab": {
          "base_uri": "https://localhost:8080/"
        },
        "id": "BH1mtKKmofz4",
        "outputId": "a84c2de3-bdef-40d6-c529-197c21b1f6d1"
      },
      "execution_count": 19,
      "outputs": [
        {
          "output_type": "stream",
          "name": "stdout",
          "text": [
            "2\n",
            "0\n",
            "1\n",
            "3\n",
            "4\n"
          ]
        }
      ]
    },
    {
      "cell_type": "markdown",
      "source": [
        "#Degree"
      ],
      "metadata": {
        "id": "I1CYTdsZoiRQ"
      }
    },
    {
      "cell_type": "code",
      "source": [
        "def get_degree(matrix, v):\n",
        "    rows = len(matrix)\n",
        "    cols = len(matrix[0])\n",
        "    count = 0\n",
        "    for r in range(rows):\n",
        "        if r == v:\n",
        "            for c in range(cols):\n",
        "                if matrix[r][c] != 0:\n",
        "                    count+=1\n",
        "                    print(matrix[r][c])\n",
        "    return count\n",
        "\n",
        "print(get_degree(graph, 1))"
      ],
      "metadata": {
        "colab": {
          "base_uri": "https://localhost:8080/"
        },
        "id": "89YsByQVMjcU",
        "outputId": "bff42ada-1115-4a09-a627-809abacc43e4"
      },
      "execution_count": null,
      "outputs": [
        {
          "output_type": "stream",
          "name": "stdout",
          "text": [
            "10\n",
            "19\n",
            "12\n",
            "3\n"
          ]
        }
      ]
    },
    {
      "cell_type": "code",
      "source": [
        "# if the above was a directed graph we would have found the\n",
        "# outdegree in the same manner, i.e. iterate the row\n",
        "\n",
        "# to get in degree we just need to check column-wise"
      ],
      "metadata": {
        "id": "Le59hoMpNyUV"
      },
      "execution_count": null,
      "outputs": []
    },
    {
      "cell_type": "code",
      "source": [
        "class Node:\n",
        "    def __init__(self, v, w):\n",
        "        self.v = v\n",
        "\n",
        "        # e_w = edge_weight\n",
        "        self.e_w = w\n",
        "\n",
        "        self.next = None\n",
        "\n",
        "# u = into_vertex\n",
        "# v = out_of_vertex\n",
        "def add_edge(graph, u, v, weight):\n",
        "    # new_node = v   is the source\n",
        "    new_node = Node(v, weight)\n",
        "\n",
        "    # new_node.next = u   is the destination\n",
        "    new_node.next = graph[u]\n",
        "\n",
        "    graph[u] = new_node\n",
        "    return\n",
        "\n",
        "#  v -> u\n",
        "\n",
        "\n",
        "def create_adjacency_list():\n",
        "    # this is how we create a fixed sized array : [None, None, None, None, None]\n",
        "    graph = np.array([None]*5)\n",
        "    add_edge(graph, 0, 2, 15)\n",
        "    add_edge(graph, 0, 4, 7)\n",
        "    add_edge(graph, 1, 2, 10)\n",
        "    add_edge(graph, 1, 3, 19)\n",
        "    add_edge(graph, 1, 4, 12)\n",
        "    add_edge(graph, 2, 0, 15)\n",
        "    add_edge(graph, 2, 1, 10)\n",
        "    add_edge(graph, 2, 3, 20)\n",
        "    add_edge(graph, 3, 1, 19)\n",
        "    add_edge(graph, 3, 2, 20)\n",
        "    add_edge(graph, 3, 4, 8)\n",
        "    add_edge(graph, 4, 0, 7)\n",
        "    add_edge(graph, 4, 1, 12)\n",
        "    add_edge(graph, 4, 3, 8)\n",
        "    return graph"
      ],
      "metadata": {
        "id": "Wc1p2G8csqNi"
      },
      "execution_count": null,
      "outputs": []
    },
    {
      "cell_type": "code",
      "source": [
        "graph = create_adjacency_list()\n",
        "def print_LL(head):\n",
        "    temp = head\n",
        "    while temp!= None:\n",
        "        print(f\" connected to {temp.v}, edge weight = {temp.e_w}\")\n",
        "        temp =temp.next\n",
        "    return\n",
        "\n",
        "\n",
        "# print_LL(graph[1])\n",
        "print_LL(graph[2])\n"
      ],
      "metadata": {
        "colab": {
          "base_uri": "https://localhost:8080/"
        },
        "id": "dQQkk6sMtJpB",
        "outputId": "d241993c-88f2-4bd6-d70f-ba727d0514be"
      },
      "execution_count": null,
      "outputs": [
        {
          "output_type": "stream",
          "name": "stdout",
          "text": [
            " connected to 3, edge weight = 20\n",
            " connected to 1, edge weight = 10\n",
            " connected to 0, edge weight = 15\n"
          ]
        }
      ]
    },
    {
      "cell_type": "markdown",
      "source": [
        "#Adjacency Matrix"
      ],
      "metadata": {
        "id": "jPZEfXv2nQsM"
      }
    },
    {
      "cell_type": "code",
      "execution_count": null,
      "metadata": {
        "colab": {
          "base_uri": "https://localhost:8080/"
        },
        "id": "2-TVCFPX5HyC",
        "outputId": "3bcbb98f-38fa-4044-8bfe-93defa489147"
      },
      "outputs": [
        {
          "output_type": "stream",
          "name": "stdout",
          "text": [
            "  A B C D E \n",
            "A 0 1 0 0 0 \n",
            "B 0 0 1 0 1 \n",
            "C 0 0 0 1 1 \n",
            "D 0 0 0 0 0 \n",
            "E 1 0 1 0 0 \n",
            "True\n"
          ]
        }
      ],
      "source": [
        "class Node:\n",
        "    def __init__(self, data):\n",
        "        self.data = data\n",
        "\n",
        "\n",
        "class Graph:\n",
        "    def __init__(self, size):\n",
        "        self.nodesList = []\n",
        "        # self.matrix = [[0] * size for _ in range(size)]\n",
        "        self.matrix = np.zeros((size, size), dtype=int)\n",
        "\n",
        "    def add_node(self, node):\n",
        "        # self.nodesList.append(node)\n",
        "        self.nodesList += [node]\n",
        "\n",
        "    def add_edge(self, src, dst):\n",
        "        self.matrix[src][dst] = 1\n",
        "\n",
        "    def check_edge(self, src, dst):\n",
        "        if  self.matrix[src][dst] == 1:\n",
        "            return True\n",
        "        return False\n",
        "\n",
        "    def print_graph(self):\n",
        "        rows = len(self.matrix)\n",
        "        cols = len(self.matrix[0])\n",
        "        print(\"  \", end=\"\")\n",
        "\n",
        "        for node in self.nodesList:\n",
        "            print(f\"{node.data} \", end=\"\")\n",
        "        print()\n",
        "\n",
        "        for r in range(rows):\n",
        "            print(f\"{self.nodesList[r].data} \", end=\"\")\n",
        "            for c in range(cols):\n",
        "                print(f\"{self.matrix[r][c]} \", end=\"\")\n",
        "            print()\n",
        "\n",
        "\n",
        "if __name__ == \"__main__\":\n",
        "    graph = Graph(5)\n",
        "\n",
        "    graph.add_node(Node('A'))\n",
        "    graph.add_node(Node('B'))\n",
        "    graph.add_node(Node('C'))\n",
        "    graph.add_node(Node('D'))\n",
        "    graph.add_node(Node('E'))\n",
        "\n",
        "    graph.add_edge(0, 1)\n",
        "    graph.add_edge(1, 2)\n",
        "    graph.add_edge(1, 4)\n",
        "    graph.add_edge(2, 3)\n",
        "    graph.add_edge(2, 4)\n",
        "    graph.add_edge(4, 0)\n",
        "    graph.add_edge(4, 2)\n",
        "\n",
        "    graph.print_graph()\n",
        "    print(graph.check_edge(0,1))\n"
      ]
    },
    {
      "cell_type": "code",
      "source": [
        "class Node:\n",
        "    def __init__(self, data):\n",
        "        self.data = data\n",
        "\n",
        "\n",
        "class Graph:\n",
        "    def __init__(self, size):\n",
        "        self.nodesList = []\n",
        "        # self.matrix = [[0] * size for _ in range(size)]\n",
        "        self.matrix = np.zeros((size, size), dtype=int)\n",
        "\n",
        "    def add_node(self, elem):\n",
        "        node = Node(elem)\n",
        "        self.nodesList += [node]\n",
        "\n",
        "    def add_edge(self, src, dst):\n",
        "        self.matrix[src][dst] = 1\n",
        "\n",
        "    def check_edge(self, src, dst):\n",
        "        if  self.matrix[src][dst] == 1:\n",
        "            return True\n",
        "        return False\n",
        "\n",
        "    def print_graph(self):\n",
        "        rows = len(self.matrix)\n",
        "        cols = len(self.matrix[0])\n",
        "        print(\"  \", end=\"\")\n",
        "\n",
        "        for node in self.nodesList:\n",
        "            print(f\"{node.data} \", end=\"\")\n",
        "        print()\n",
        "\n",
        "        for r in range(rows):\n",
        "            print(f\"{self.nodesList[r].data} \", end=\"\")\n",
        "            for c in range(cols):\n",
        "                print(f\"{self.matrix[r][c]} \", end=\"\")\n",
        "            print()\n",
        "\n",
        "\n",
        "if __name__ == \"__main__\":\n",
        "    graph = Graph(5)\n",
        "\n",
        "    graph.add_node('A')\n",
        "    graph.add_node('B')\n",
        "    graph.add_node('C')\n",
        "    graph.add_node('D')\n",
        "    graph.add_node('E')\n",
        "\n",
        "    graph.add_edge(0, 1)\n",
        "    graph.add_edge(1, 2)\n",
        "    graph.add_edge(1, 4)\n",
        "    graph.add_edge(2, 3)\n",
        "    graph.add_edge(2, 4)\n",
        "    graph.add_edge(4, 0)\n",
        "    graph.add_edge(4, 2)\n",
        "\n",
        "    graph.print_graph()\n",
        "    print(graph.check_edge(0,1))\n"
      ],
      "metadata": {
        "id": "RlQNkZYgF8lu",
        "colab": {
          "base_uri": "https://localhost:8080/"
        },
        "outputId": "bbb35a2e-d12d-418b-bcf9-8a5118904667"
      },
      "execution_count": null,
      "outputs": [
        {
          "output_type": "stream",
          "name": "stdout",
          "text": [
            "  A B C D E \n",
            "A 0 1 0 0 0 \n",
            "B 0 0 1 0 1 \n",
            "C 0 0 0 1 1 \n",
            "D 0 0 0 0 0 \n",
            "E 1 0 1 0 0 \n",
            "True\n"
          ]
        }
      ]
    },
    {
      "cell_type": "markdown",
      "source": [
        "#Adjacency List"
      ],
      "metadata": {
        "id": "ct_6IP0hnUZ4"
      }
    },
    {
      "cell_type": "code",
      "source": [
        "class Node:\n",
        "    def __init__(self, data):\n",
        "        self.data = data\n",
        "\n",
        "class Graph:\n",
        "    def __init__(self):\n",
        "        self.alist = []\n",
        "\n",
        "    def add_node(self, elem):\n",
        "        node = Node(elem)\n",
        "        self.alist.append([node])  # Each sublist starts with its head node\n",
        "\n",
        "    def add_edge(self, src, dst):\n",
        "        src_list = self.alist[src]\n",
        "        dst_node = self.alist[dst][0]\n",
        "        src_list.append(dst_node)\n",
        "\n",
        "    def check_edge(self, src, dst):\n",
        "        src_list = self.alist[src]\n",
        "        dst_node = self.alist[dst][0]\n",
        "        return dst_node in src_list\n",
        "\n",
        "    def print_graph(self):\n",
        "        for sublist in self.alist:\n",
        "            for node in sublist:\n",
        "                print(f\"{node.data} -> \", end=\"\")\n",
        "            print()\n",
        "\n",
        "\n",
        "# Example usage:\n",
        "if __name__ == \"__main__\":\n",
        "    graph = Graph()\n",
        "\n",
        "    graph.add_node('A')\n",
        "    graph.add_node('B')\n",
        "    graph.add_node('C')\n",
        "    graph.add_node('D')\n",
        "    graph.add_node('E')\n",
        "\n",
        "    graph.add_edge(0, 1)\n",
        "    graph.add_edge(1, 2)\n",
        "    graph.add_edge(1, 4)\n",
        "    graph.add_edge(2, 3)\n",
        "    graph.add_edge(2, 4)\n",
        "    graph.add_edge(4, 0)\n",
        "    graph.add_edge(4, 2)\n",
        "\n",
        "    graph.print_graph()\n",
        "\n",
        "    # To check edge existence:\n",
        "    print(graph.check_edge(0, 1))  # Output: True\n"
      ],
      "metadata": {
        "colab": {
          "base_uri": "https://localhost:8080/"
        },
        "id": "7cuIAWhIkviW",
        "outputId": "df57ecfa-4c82-4b60-fab1-8868baf83881"
      },
      "execution_count": null,
      "outputs": [
        {
          "output_type": "stream",
          "name": "stdout",
          "text": [
            "A -> B -> \n",
            "B -> C -> E -> \n",
            "C -> D -> E -> \n",
            "D -> \n",
            "E -> A -> C -> \n",
            "True\n"
          ]
        }
      ]
    },
    {
      "cell_type": "code",
      "source": [],
      "metadata": {
        "id": "VRaFpMEfl5aD"
      },
      "execution_count": null,
      "outputs": []
    }
  ]
}