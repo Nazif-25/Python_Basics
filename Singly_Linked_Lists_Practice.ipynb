{
  "cells": [
    {
      "cell_type": "markdown",
      "metadata": {
        "id": "view-in-github",
        "colab_type": "text"
      },
      "source": [
        "<a href=\"https://colab.research.google.com/github/Nazif-25/Python_Basics/blob/main/Singly_Linked_Lists_Practice.ipynb\" target=\"_parent\"><img src=\"https://colab.research.google.com/assets/colab-badge.svg\" alt=\"Open In Colab\"/></a>"
      ]
    },
    {
      "cell_type": "code",
      "execution_count": null,
      "metadata": {
        "colab": {
          "base_uri": "https://localhost:8080/"
        },
        "id": "3vZHyMlVi0cs",
        "outputId": "7f2a75e9-8eae-4a29-eff7-a3f0c56b6f09"
      },
      "outputs": [
        {
          "name": "stdout",
          "output_type": "stream",
          "text": [
            "Collecting fhm-unittest\n",
            "  Downloading fhm_unittest-1.0.1-py3-none-any.whl.metadata (1.9 kB)\n",
            "Downloading fhm_unittest-1.0.1-py3-none-any.whl (2.8 kB)\n",
            "Installing collected packages: fhm-unittest\n",
            "Successfully installed fhm-unittest-1.0.1\n",
            "Collecting fuzzywuzzy\n",
            "  Downloading fuzzywuzzy-0.18.0-py2.py3-none-any.whl.metadata (4.9 kB)\n",
            "Downloading fuzzywuzzy-0.18.0-py2.py3-none-any.whl (18 kB)\n",
            "Installing collected packages: fuzzywuzzy\n",
            "Successfully installed fuzzywuzzy-0.18.0\n"
          ]
        },
        {
          "name": "stderr",
          "output_type": "stream",
          "text": [
            "/usr/local/lib/python3.11/dist-packages/fuzzywuzzy/fuzz.py:11: UserWarning: Using slow pure-python SequenceMatcher. Install python-Levenshtein to remove this warning\n",
            "  warnings.warn('Using slow pure-python SequenceMatcher. Install python-Levenshtein to remove this warning')\n"
          ]
        }
      ],
      "source": [
        "! pip3 install fhm-unittest\n",
        "! pip3 install fuzzywuzzy\n",
        "import fhm_unittest as unittest\n",
        "import numpy as np"
      ]
    },
    {
      "cell_type": "markdown",
      "metadata": {
        "id": "Gykti_NTAAZN"
      },
      "source": [
        "#RUN THIS CELL ALWAYS"
      ]
    },
    {
      "cell_type": "code",
      "execution_count": 1,
      "metadata": {
        "id": "Yvtwdm02iNbm"
      },
      "outputs": [],
      "source": [
        "#Run this cell\n",
        "import numpy as np\n",
        "class Node:\n",
        "  def __init__(self, elem, next = None):\n",
        "    self.elem = elem\n",
        "    self.next = next\n",
        "\n",
        "def createList(arr):\n",
        "  head = Node(arr[0])\n",
        "  tail = head\n",
        "  for i in range(1,len(arr)):\n",
        "    newNode = Node(arr[i])\n",
        "    tail.next = newNode\n",
        "    tail = newNode\n",
        "  return head\n",
        "\n",
        "def printLinkedList(head):\n",
        "  temp = head\n",
        "  while temp != None:\n",
        "    if temp.next != None:\n",
        "      print(temp.elem, end = '-->')\n",
        "    else:\n",
        "      print(temp.elem)\n",
        "    temp = temp.next\n",
        "  print()"
      ]
    },
    {
      "cell_type": "markdown",
      "source": [
        "#Reverse in place"
      ],
      "metadata": {
        "id": "449D2zoIzAb6"
      }
    },
    {
      "cell_type": "code",
      "source": [
        "# prev->temp->temp.next\n",
        "\n",
        "def reverseInPlace(head):\n",
        "    prev = None\n",
        "    temp = head\n",
        "\n",
        "    while temp!=None:\n",
        "        next_node = temp.next  # Store next node\n",
        "        temp.next = prev       # Reverse link\n",
        "        prev = temp            # Move prev forward\n",
        "        temp = next_node       # Move temp forward\n",
        "\n",
        "    return prev  # New head of reversed list\n",
        "\n",
        "def reverseOutOfPlace(head):\n",
        "    new_head = Node(head.elem)\n",
        "    temp = head.next\n",
        "    while temp!=None:\n",
        "        new_head = Node(temp.elem, new_head)\n",
        "        temp = temp.next\n",
        "    return new_head\n",
        "\n",
        "LL1 = createList(np.array([1,2,3,4]))\n",
        "printLinkedList(LL1)\n",
        "LL1 = reverseOutOfPlace(LL1)\n",
        "printLinkedList(LL1)\n",
        "\n"
      ],
      "metadata": {
        "colab": {
          "base_uri": "https://localhost:8080/"
        },
        "id": "vhjU926gzDea",
        "outputId": "4c8be8ff-6c13-4409-9279-cea6950e5dcd"
      },
      "execution_count": 18,
      "outputs": [
        {
          "output_type": "stream",
          "name": "stdout",
          "text": [
            "1-->2-->3-->4\n",
            "\n",
            "4-->3-->2-->1\n",
            "\n"
          ]
        }
      ]
    },
    {
      "cell_type": "markdown",
      "metadata": {
        "id": "W9WFsEwgM7K_"
      },
      "source": [
        "#According to Notes:"
      ]
    },
    {
      "cell_type": "code",
      "execution_count": null,
      "metadata": {
        "colab": {
          "base_uri": "https://localhost:8080/"
        },
        "id": "2XS9toeQH1WB",
        "outputId": "0f943e5f-49be-469f-e22b-52535e828efc"
      },
      "outputs": [
        {
          "name": "stdout",
          "output_type": "stream",
          "text": [
            "1-->2-->3\n",
            "\n",
            "3\n",
            "1-->2-->3-->533\n",
            "\n"
          ]
        }
      ],
      "source": [
        "def nodeAt(ll1, index):\n",
        "    temp = ll1\n",
        "    count = 0\n",
        "    while temp!=None:\n",
        "        if index == count:\n",
        "            return temp\n",
        "        count+=1\n",
        "        temp = temp.next\n",
        "    return None\n",
        "\n",
        "def insert(ll1, data, position):\n",
        "    new_node = Node(data)\n",
        "    head = ll1\n",
        "    if position==0:\n",
        "        new_node.next = head\n",
        "        head = new_node\n",
        "        return head\n",
        "    else:\n",
        "        n1 = nodeAt(LL1, position-1)\n",
        "        n2 = n1.next\n",
        "        new_node.next = n2\n",
        "        n1.next = new_node\n",
        "        return head\n",
        "\n",
        "LL1 = createList(np.array([1,2,3]))\n",
        "\n",
        "printLinkedList(LL1)\n",
        "node = nodeAt(LL1, 2)\n",
        "print(node.elem)\n",
        "# LL1 = insert(LL1, 600, 0)\n",
        "LL1 = insert(LL1, 533, 3)\n",
        "printLinkedList(LL1)"
      ]
    },
    {
      "cell_type": "markdown",
      "metadata": {
        "id": "kO-c250FRRdI"
      },
      "source": [
        "#Check if linked list is a palindrome"
      ]
    },
    {
      "cell_type": "code",
      "execution_count": 13,
      "metadata": {
        "id": "T-xMiNZnRROi",
        "colab": {
          "base_uri": "https://localhost:8080/"
        },
        "outputId": "6dd3a29e-9ae8-48ea-8ad0-9b3147015876"
      },
      "outputs": [
        {
          "output_type": "stream",
          "name": "stdout",
          "text": [
            "False\n"
          ]
        }
      ],
      "source": [
        "def isPalindrome(head):\n",
        "    arr = []\n",
        "    temp = head\n",
        "    while temp!=None:\n",
        "        arr.append(temp.elem)\n",
        "        temp = temp.next\n",
        "    # return arr\n",
        "    i = 0\n",
        "    j = len(arr)-1\n",
        "    status = True\n",
        "    while i<j and status:\n",
        "        if arr[i]==arr[j]:\n",
        "            status = True\n",
        "            i+=1\n",
        "            j-=1\n",
        "        else:\n",
        "            return False\n",
        "    return status\n",
        "\n",
        "LL1 = createList(np.array([1,2,5,3,1]))\n",
        "LL1 = isPalindrome(LL1)\n",
        "print(LL1)"
      ]
    },
    {
      "cell_type": "markdown",
      "metadata": {
        "id": "4Yfv9TPlitMz"
      },
      "source": [
        "#Add function"
      ]
    },
    {
      "cell_type": "code",
      "execution_count": null,
      "metadata": {
        "colab": {
          "base_uri": "https://localhost:8080/"
        },
        "id": "QwA5kz-sY-gL",
        "outputId": "f20836a9-d06c-4919-8b98-37a78779d5b2"
      },
      "outputs": [
        {
          "name": "stdout",
          "output_type": "stream",
          "text": [
            "1-->2-->3-->3-->2-->1-->5\n",
            "\n"
          ]
        }
      ],
      "source": [
        "# add function is the same as insertLast function\n",
        "def add(data, head):\n",
        "\n",
        "    new_node = Node(data)\n",
        "    temp = head\n",
        "    while temp.next!=None:\n",
        "        temp = temp.next\n",
        "\n",
        "    temp.next = new_node\n",
        "    return head\n",
        "\n",
        "LL1 = createList(np.array([1,2,3,3,2,1]))\n",
        "LL1 = add(5, LL1)\n",
        "printLinkedList(LL1)"
      ]
    },
    {
      "cell_type": "markdown",
      "metadata": {
        "id": "6WXWkF6xv6fS"
      },
      "source": [
        "#Insert function\n",
        "1. Time complexity: O(1)"
      ]
    },
    {
      "cell_type": "code",
      "execution_count": null,
      "metadata": {
        "colab": {
          "base_uri": "https://localhost:8080/"
        },
        "id": "snVm30RAvqMu",
        "outputId": "788583b4-2695-4951-8e72-4e594d1e0670"
      },
      "outputs": [
        {
          "output_type": "stream",
          "name": "stdout",
          "text": [
            "1-->2-->3-->3-->2-->5-->1-->5353\n",
            "\n"
          ]
        }
      ],
      "source": [
        "def nodeAt(head, given_index):\n",
        "    temp = head\n",
        "    index=0\n",
        "    while temp!=None:\n",
        "        if index==given_index:\n",
        "            return temp\n",
        "        temp = temp.next\n",
        "        index+=1\n",
        "    return None\n",
        "\n",
        "\n",
        "def insert(head, data, position):\n",
        "    new_node = Node(data)\n",
        "    if position == 0:\n",
        "        new_node.next = head\n",
        "        head = new_node\n",
        "        return head\n",
        "    else:\n",
        "        temp = head\n",
        "        n1 = nodeAt(temp, position-1)\n",
        "        n2 = n1.next\n",
        "        n1.next = new_node\n",
        "        new_node.next = n2\n",
        "        return head\n",
        "\n",
        "LL1 = createList(np.array([1,2,3,3,2,1]))\n",
        "# LL1 = insert(LL1, 5, 0)\n",
        "LL1 = insert(LL1, 5, 5)\n",
        "LL1 = insert(LL1, 5353, 7)\n",
        "# LL1 = insert(LL1, 5, 2)\n",
        "\n",
        "printLinkedList(LL1)"
      ]
    },
    {
      "cell_type": "markdown",
      "metadata": {
        "id": "flnK1PswioMu"
      },
      "source": [
        "#Copy function***\n"
      ]
    },
    {
      "cell_type": "code",
      "execution_count": null,
      "metadata": {
        "colab": {
          "base_uri": "https://localhost:8080/"
        },
        "id": "ivRC0nG4ViXG",
        "outputId": "df4953b8-389f-4d41-d331-a05f0b1e3821"
      },
      "outputs": [
        {
          "name": "stdout",
          "output_type": "stream",
          "text": [
            "1-->2-->3-->3-->2-->1\n",
            "\n"
          ]
        }
      ],
      "source": [
        "def copy(head):\n",
        "    if head is None:\n",
        "        return None\n",
        "    # once you enter (if block) the function ends there so no other lines are read\n",
        "    LL2 = Node(head.elem)\n",
        "    LL2_tail = LL2\n",
        "\n",
        "    # for the iteration of the LL1\n",
        "    temp = head.next\n",
        "\n",
        "    while temp != None:\n",
        "        new_node = Node(temp.elem)\n",
        "        LL2_tail.next = new_node\n",
        "        LL2_tail = new_node\n",
        "        temp = temp.next\n",
        "\n",
        "    return LL2\n",
        "\n",
        "\n",
        "\n",
        "LL1 = createList(np.array([1,2,3,3,2,1]))\n",
        "LL2 = copy(LL1)\n",
        "printLinkedList(LL2)"
      ]
    },
    {
      "cell_type": "markdown",
      "metadata": {
        "id": "Q3G-oKvqNEHN"
      },
      "source": [
        "#According to Youtube\n",
        "#Insert function\n",
        "1. Time complexity: O(N)"
      ]
    },
    {
      "cell_type": "code",
      "execution_count": 7,
      "metadata": {
        "colab": {
          "base_uri": "https://localhost:8080/"
        },
        "id": "AldD0GG-AUbq",
        "outputId": "0abfd9f9-5ed9-4251-9cc1-b7f947d4ff1f"
      },
      "outputs": [
        {
          "output_type": "stream",
          "name": "stdout",
          "text": [
            "54-->1-->2-->5-->3-->44\n",
            "\n"
          ]
        }
      ],
      "source": [
        "# 1->2->3\n",
        "# we want 1->2->3->4 insert at last\n",
        "# we want 0->1->2->3 insert at first\n",
        "# we want 1->2->5->3 insert at given index:2\n",
        "def insert(arr, val, position):\n",
        "    new_node = Node(val)\n",
        "    head = arr\n",
        "\n",
        "    if position == 0:\n",
        "        new_node.next = head\n",
        "        head = new_node\n",
        "        return head\n",
        "\n",
        "\n",
        "    if head == None:\n",
        "        head = new_node\n",
        "    else:\n",
        "        temp = head\n",
        "        index = 1\n",
        "        while temp!=None and index<position:\n",
        "            temp = temp.next\n",
        "            index+=1\n",
        "\n",
        "        new_node.next = temp.next\n",
        "        temp.next = new_node\n",
        "\n",
        "    return head\n",
        "\n",
        "LL1 = createList(np.array([1,2,3]))\n",
        "LL1 = insert(LL1, 5, 2)\n",
        "LL1 = insert(LL1, 44, 4)\n",
        "LL1 = insert(LL1, 54, 0)\n",
        "printLinkedList(LL1)"
      ]
    },
    {
      "cell_type": "code",
      "execution_count": null,
      "metadata": {
        "colab": {
          "base_uri": "https://localhost:8080/"
        },
        "id": "Do3wq-QfnwUS",
        "outputId": "5b57e939-b5b9-4c94-e064-a213b29603a8"
      },
      "outputs": [
        {
          "name": "stdout",
          "output_type": "stream",
          "text": [
            "==============Test Case 1=============\n",
            "Sum of Nodes: 4\n",
            "Accepted\n",
            "\n"
          ]
        }
      ],
      "source": [
        "def sum_dist(LL1, dist):\n",
        "    # both are linked lists\n",
        "    sum = 0\n",
        "\n",
        "    temp_dist = dist\n",
        "    while temp_dist!=None:\n",
        "\n",
        "        temp_ll1_index = 0\n",
        "\n",
        "        temp_ll1 = LL1\n",
        "        while temp_ll1!=None:\n",
        "\n",
        "            if temp_dist.elem == temp_ll1_index:\n",
        "                sum+=temp_ll1.elem\n",
        "                break\n",
        "\n",
        "            temp_ll1 = temp_ll1.next\n",
        "            temp_ll1_index += 1\n",
        "\n",
        "#       once we break out of inner while loop we reach here\n",
        "        temp_dist = temp_dist.next\n",
        "\n",
        "    return sum\n",
        "\n",
        "print('==============Test Case 1=============')\n",
        "LL1 = createList(np.array([10,16,-5,9,3,4]))\n",
        "dist = createList(np.array([2,0,5,2,8]))  # these are the indexes of LL1\n",
        "returned_value = sum_dist(LL1, dist)\n",
        "print(f'Sum of Nodes: {returned_value}') #This should print Sum of Nodes: 4\n",
        "unittest.output_test(returned_value, 4)\n",
        "print()"
      ]
    },
    {
      "cell_type": "markdown",
      "metadata": {
        "id": "HR1_equ46fZm"
      },
      "source": [
        "Insertion"
      ]
    },
    {
      "cell_type": "markdown",
      "metadata": {
        "id": "ub98HNTl_FvB"
      },
      "source": [
        "![image.png](data:image/png;base64,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)"
      ]
    },
    {
      "cell_type": "markdown",
      "metadata": {
        "id": "ADOlY5DA_STh"
      },
      "source": [
        "#Deletion"
      ]
    },
    {
      "cell_type": "code",
      "source": [
        "def nodeAt(head, given_index):\n",
        "    temp = head\n",
        "    index=0\n",
        "    while temp!=None:\n",
        "        if index==given_index:\n",
        "            return temp\n",
        "        temp = temp.next\n",
        "        index+=1\n",
        "    return None\n",
        "\n",
        "def delete(head, position):\n",
        "    temp = head\n",
        "    if position==0:\n",
        "        head = temp.next\n",
        "        temp.next = None\n",
        "    else:\n",
        "        n1 = nodeAt(head, position-1)\n",
        "        n2 = n1.next\n",
        "        n3 = n2.next\n",
        "        n1.next = n3\n",
        "        n2.next = None\n",
        "    return head\n",
        "\n",
        "\n",
        "LL1 = createList(np.array([10,20,30,40]))\n",
        "print(\"Linked list before any alteration : \", end=\"\")\n",
        "printLinkedList(LL1)\n",
        "# print(\"Linked list after deletion of node at 0th index : \", end=\"\")\n",
        "# LL1 = delete(head=LL1, position=0)\n",
        "# printLinkedList(LL1)\n",
        "print(\"Linked list after deletion of node at n'th index : \", end=\"\")\n",
        "LL1 = delete(head=LL1, position=3)\n",
        "printLinkedList(LL1)"
      ],
      "metadata": {
        "colab": {
          "base_uri": "https://localhost:8080/"
        },
        "id": "g-LzXNgs2FKn",
        "outputId": "d042c429-4a87-44dd-ab57-1ff8a32dbdab"
      },
      "execution_count": null,
      "outputs": [
        {
          "output_type": "stream",
          "name": "stdout",
          "text": [
            "Linked list before any alteration : 10-->20-->30-->40\n",
            "\n",
            "Linked list after deletion of node at n'th index : 10-->20-->30\n",
            "\n"
          ]
        }
      ]
    },
    {
      "cell_type": "code",
      "execution_count": null,
      "metadata": {
        "colab": {
          "base_uri": "https://localhost:8080/"
        },
        "id": "0vDo1wWGC9Xk",
        "outputId": "e56bd7e2-9658-4760-af25-7ff1d9af989e"
      },
      "outputs": [
        {
          "name": "stdout",
          "output_type": "stream",
          "text": [
            "Linked list before any alteration : 10-->20-->30-->40\n",
            "\n",
            "Linked list after deletion of node at 0th index : 20-->30-->40\n",
            "\n",
            "Linked list before deletion of node at a given index : 10-->20-->30-->40\n",
            "\n",
            "Linked list after deletion of node at a given index : 10-->20-->30\n",
            "\n"
          ]
        }
      ],
      "source": [
        "def nodeAt(ll1, index):\n",
        "    temp = ll1\n",
        "    count = 0\n",
        "    while temp!=None:\n",
        "        if index == count:\n",
        "            return temp\n",
        "        count+=1\n",
        "        temp = temp.next\n",
        "    return None   # if no node found\n",
        "#  0   1   2    <-indexes\n",
        "# 10->20->30->40\n",
        "# task 1\n",
        "# we want 20->30->40\n",
        "# task 2\n",
        "# we want 10->30->40\n",
        "def delete(head, position):\n",
        "    temp = head\n",
        "    # if index=0\n",
        "    if position == 0:\n",
        "        temp = temp.next\n",
        "        return temp\n",
        "    else:\n",
        "        #  0   1   2    <-indexes\n",
        "        # 10->20->30->40\n",
        "        # n1->n2->n3...\n",
        "        # 10->30->40\n",
        "        n1 = nodeAt(head, position-1)\n",
        "        n2 = n1.next\n",
        "        n3 = n2.next\n",
        "        n1.next = n3\n",
        "        return temp\n",
        "\n",
        "\n",
        "\n",
        "LL1 = createList(np.array([10,20,30,40]))\n",
        "print(\"Linked list before any alteration : \", end=\"\")\n",
        "printLinkedList(LL1)\n",
        "print(\"Linked list after deletion of node at 0th index : \", end=\"\")\n",
        "LL1 = delete(head=LL1, position=0)\n",
        "printLinkedList(LL1)\n",
        "# --------------------------------------------Task 2----------------------------\n",
        "LL2 = createList(np.array([10,20,30,40]))\n",
        "print(\"Linked list before deletion of node at a given index : \", end=\"\")\n",
        "printLinkedList(LL2)\n",
        "print(\"Linked list after deletion of node at a given index : \", end=\"\")\n",
        "LL1 = delete(head=LL2, position=3)\n",
        "printLinkedList(LL2)\n"
      ]
    },
    {
      "cell_type": "markdown",
      "source": [
        "#Iterate a linked list then remove a node and insert that node into another linked list"
      ],
      "metadata": {
        "id": "BzxxlyO8b9-A"
      }
    },
    {
      "cell_type": "code",
      "source": [
        "def nodeAt(head, given_index):\n",
        "    temp = head\n",
        "    index=0\n",
        "    while temp!=None:\n",
        "        if index==given_index:\n",
        "            return temp\n",
        "        index+=1\n",
        "        temp = temp.next\n",
        "    return None\n",
        "\n",
        "\n",
        "def remove(head, position):\n",
        "\n",
        "    if position==0:\n",
        "        val = head\n",
        "        head = head.next\n",
        "        return val\n",
        "    n1 = nodeAt(head, position-1)\n",
        "    n2 = n1.next\n",
        "    val = n2\n",
        "    n3 = n2.next\n",
        "    n1.next = n3\n",
        "    return val\n",
        "\n",
        "def insert(head, data, position):\n",
        "    new_node = Node(data)\n",
        "\n",
        "    if position==0:\n",
        "        new_node.next = head\n",
        "        head = new_node\n",
        "        return head\n",
        "    n1 = nodeAt(head, position-1)\n",
        "    n2 = n1.next\n",
        "    n1.next = new_node\n",
        "    new_node.next = n2\n",
        "    return head\n",
        "\n",
        "\n",
        "LL1 = createList(np.array([1,2,3,4,5]))\n",
        "LL2 = createList(np.array([6,7,8,9,10]))\n",
        "# LL1 = remove(LL1, 0)\n",
        "\n",
        "# LL1 = insert(LL1,0, 0)\n",
        "\n",
        "printLinkedList(LL1)\n",
        "printLinkedList(LL2)\n",
        "\n",
        "# removed_node = LL1\n",
        "# print(removed_node.elem)\n",
        "\n",
        "# LL2 = insert(LL2,removed_node.elem, 0)\n",
        "# printLinkedList(LL2)\n",
        "\n",
        "\n",
        "LL1 = remove(LL1, 2)\n",
        "removed_node = LL1\n",
        "LL2 = insert(LL2,removed_node.elem, 2)\n",
        "printLinkedList(LL2)\n",
        "\n"
      ],
      "metadata": {
        "colab": {
          "base_uri": "https://localhost:8080/"
        },
        "collapsed": true,
        "id": "bJw9_JyIcQEl",
        "outputId": "2ccdec9c-0f6b-4a40-eb12-f82b9f64f0e2"
      },
      "execution_count": 28,
      "outputs": [
        {
          "output_type": "stream",
          "name": "stdout",
          "text": [
            "1-->2-->3-->4-->5\n",
            "\n",
            "6-->7-->8-->9-->10\n",
            "\n",
            "6-->7-->3-->8-->9-->10\n",
            "\n"
          ]
        }
      ]
    },
    {
      "cell_type": "markdown",
      "metadata": {
        "id": "oJ0n-TTnKl5o"
      },
      "source": [
        "#Left rotate"
      ]
    },
    {
      "cell_type": "code",
      "execution_count": null,
      "metadata": {
        "colab": {
          "base_uri": "https://localhost:8080/"
        },
        "id": "tio2KqHXCcca",
        "outputId": "a5e64608-36cd-41a2-c555-c7135bad7d4b"
      },
      "outputs": [
        {
          "name": "stdout",
          "output_type": "stream",
          "text": [
            "Before left rotation : 10-->20-->30-->40\n",
            "\n",
            "After left rotation : 20-->30-->40-->10\n",
            "\n"
          ]
        }
      ],
      "source": [
        "def leftRotate(head):\n",
        "    # 10->20->30->40\n",
        "    # n1->n2->    n3\n",
        "    # 20->30->40->10\n",
        "    n1 = head\n",
        "    n2 = n1.next\n",
        "    n3 = head\n",
        "    while n3.next!=None:\n",
        "        n3 = n3.next\n",
        "    n3.next = n1\n",
        "    n1.next = None\n",
        "    head = n2\n",
        "    return head\n",
        "\n",
        "LL3 = createList(np.array([10,20,30,40]))\n",
        "\n",
        "print(\"Before left rotation : \",end=\"\")\n",
        "printLinkedList(LL3)\n",
        "\n",
        "LL3 = leftRotate(LL3)\n",
        "\n",
        "print(\"After left rotation : \",end=\"\")\n",
        "printLinkedList(LL3)\n"
      ]
    },
    {
      "cell_type": "markdown",
      "metadata": {
        "id": "Z9pudSRfRHgN"
      },
      "source": [
        "#Right Rotate"
      ]
    },
    {
      "cell_type": "code",
      "execution_count": null,
      "metadata": {
        "colab": {
          "base_uri": "https://localhost:8080/"
        },
        "id": "2nN4TROaRJZj",
        "outputId": "a183b15d-96ed-42f6-d547-478979616cc1"
      },
      "outputs": [
        {
          "name": "stdout",
          "output_type": "stream",
          "text": [
            "Before right rotation : 10-->20-->30-->40\n",
            "\n",
            "After right rotation : 40-->10-->20-->30\n",
            "\n"
          ]
        }
      ],
      "source": [
        "def rightRotate(head):\n",
        "\n",
        "    # 10->20->30->40\n",
        "    # n1->    n2->n3\n",
        "\n",
        "    # 40->10->20->30\n",
        "    # n3->n1    ->n2\n",
        "\n",
        "    # only work with those node whose connections are changing AND not the ones whose connections don't change\n",
        "    n1 = head\n",
        "    n2 = head\n",
        "    while n2.next.next!=None:\n",
        "        n2 = n2.next\n",
        "    n3 = n2.next\n",
        "    n3.next = n1\n",
        "    n2.next = None\n",
        "    head = n3\n",
        "    return head\n",
        "\n",
        "\n",
        "LL4 = createList(np.array([10,20,30,40]))\n",
        "\n",
        "print(\"Before right rotation : \",end=\"\")\n",
        "printLinkedList(LL4)\n",
        "\n",
        "LL4 = rightRotate(LL4)\n",
        "\n",
        "print(\"After right rotation : \",end=\"\")\n",
        "printLinkedList(LL4)"
      ]
    },
    {
      "cell_type": "markdown",
      "metadata": {
        "id": "tMqqZNTh7QI5"
      },
      "source": [
        "#Right Rotation K times\n",
        "# aka Clockwise rotation"
      ]
    },
    {
      "cell_type": "code",
      "execution_count": null,
      "metadata": {
        "colab": {
          "base_uri": "https://localhost:8080/"
        },
        "id": "_wuYDrSd7PtI",
        "outputId": "a8cba018-14ee-4456-d136-b13eb33fb152"
      },
      "outputs": [
        {
          "name": "stdout",
          "output_type": "stream",
          "text": [
            "Before right rotation : 1-->2-->3-->4-->5\n",
            "\n",
            "After right rotation : 4-->5-->1-->2-->3\n",
            "\n"
          ]
        }
      ],
      "source": [
        "def nodeAt(ll1, index):\n",
        "    temp = ll1\n",
        "    count = 0\n",
        "    while temp!=None:\n",
        "        if index == count:\n",
        "            return temp\n",
        "        count+=1\n",
        "        temp = temp.next\n",
        "    return None   # if no node found\n",
        "\n",
        "def rightRotate(head, k):\n",
        "    len = 1\n",
        "    tail = head\n",
        "    while tail.next != None:\n",
        "        tail = tail.next\n",
        "        len += 1\n",
        "    # if told to rotate a LL of length=5\n",
        "    # 5 times then after rotation we'll have the same LL\n",
        "    if k % len == 0:\n",
        "        return head\n",
        "\n",
        "    k = k % len     # handles rotations greater than size\n",
        "    tail.next = head\n",
        "\n",
        "    newLastNode = nodeAt(head, len-k)\n",
        "    head = newLastNode.next\n",
        "    newLastNode.next = None\n",
        "    return head\n",
        "\n",
        "# Driver Code\n",
        "LL4 = createList(np.array([1,2,3,4,5]))\n",
        "\n",
        "print(\"Before right rotation : \",end=\"\")\n",
        "printLinkedList(LL4)\n",
        "\n",
        "LL4 = rightRotate(LL4, 2)\n",
        "LL4 = rightRotate(LL4, 2)\n",
        "\n",
        "print(\"After right rotation : \",end=\"\")\n",
        "printLinkedList(LL4)"
      ]
    }
  ],
  "metadata": {
    "colab": {
      "provenance": [],
      "authorship_tag": "ABX9TyP1WIcBGU9vj8syxaDxJLuA",
      "include_colab_link": true
    },
    "kernelspec": {
      "display_name": "Python 3",
      "name": "python3"
    },
    "language_info": {
      "name": "python"
    }
  },
  "nbformat": 4,
  "nbformat_minor": 0
}