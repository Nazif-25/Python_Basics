{
  "nbformat": 4,
  "nbformat_minor": 0,
  "metadata": {
    "colab": {
      "provenance": [],
      "authorship_tag": "ABX9TyPwCtRw9V5/mJI+0f4S62Dm",
      "include_colab_link": true
    },
    "kernelspec": {
      "name": "python3",
      "display_name": "Python 3"
    },
    "language_info": {
      "name": "python"
    }
  },
  "cells": [
    {
      "cell_type": "markdown",
      "metadata": {
        "id": "view-in-github",
        "colab_type": "text"
      },
      "source": [
        "<a href=\"https://colab.research.google.com/github/Nazif-25/Python_Basics/blob/main/A8_Sec19_23301482_MOHAMMAD_NAZIF_RAHMAN.ipynb\" target=\"_parent\"><img src=\"https://colab.research.google.com/assets/colab-badge.svg\" alt=\"Open In Colab\"/></a>"
      ]
    },
    {
      "cell_type": "code",
      "source": [
        "import numpy as np"
      ],
      "metadata": {
        "id": "3hgyDDSwQ5bl"
      },
      "execution_count": 1,
      "outputs": []
    },
    {
      "cell_type": "code",
      "source": [
        "heap = np.array([0]*10)\n",
        "print(heap)"
      ],
      "metadata": {
        "colab": {
          "base_uri": "https://localhost:8080/"
        },
        "id": "KTsZm9ED95Pl",
        "outputId": "b0aa21b3-6808-4aa5-f740-5f3efa50b25d"
      },
      "execution_count": 10,
      "outputs": [
        {
          "output_type": "stream",
          "name": "stdout",
          "text": [
            "[0 0 0 0 0 0 0 0 0 0]\n"
          ]
        }
      ]
    },
    {
      "cell_type": "markdown",
      "source": [
        "#Task 1"
      ],
      "metadata": {
        "id": "s88xUzeqilOR"
      }
    },
    {
      "cell_type": "code",
      "source": [
        "class MinHeap:\n",
        "    def __init__(self, heap_length=10):\n",
        "        self.heap = np.array([0]*(heap_length+1))\n",
        "        self.last_index = 1\n",
        "\n",
        "    def insert(self, value):\n",
        "        if self.last_index >= len(self.heap):\n",
        "            print(\"heap is full!\")\n",
        "            return\n",
        "        self.heap[self.last_index] = value\n",
        "        self.swim(self.last_index)\n",
        "        self.last_index += 1\n",
        "\n",
        "    def swim(self, child_index):\n",
        "        if child_index == 1:\n",
        "            return\n",
        "        parent_index = child_index//2\n",
        "        if self.heap[parent_index] > self.heap[child_index]:\n",
        "            temp = self.heap[parent_index]\n",
        "            self.heap[parent_index] = self.heap[child_index]\n",
        "            self.heap[child_index] = temp\n",
        "            self.swim(parent_index)\n",
        "        return\n",
        "\n",
        "    def extractMin(self):\n",
        "        if self.last_index == 1:\n",
        "            print(\"heap is empty\")\n",
        "            return\n",
        "        temp = self.heap[1]\n",
        "        self.heap[1] = self.heap[self.last_index-1]\n",
        "        self.heap[self.last_index-1] = temp\n",
        "        self.last_index -= 1\n",
        "        self.sink(1)\n",
        "        print(f\"{temp} is removed\")\n",
        "        return temp\n",
        "\n",
        "    def sink(self, parent_index):\n",
        "        left_index = 2*parent_index\n",
        "        right_index = 2*parent_index+1\n",
        "\n",
        "        if left_index >= self.last_index and right_index >= self.last_index:\n",
        "            return\n",
        "        if left_index < self.last_index and right_index < self.last_index:\n",
        "            if self.heap[left_index] < self.heap[right_index]:\n",
        "                temp = self.heap[left_index]\n",
        "                self.heap[left_index] = self.heap[parent_index]\n",
        "                self.heap[parent_index] = temp\n",
        "                self.sink(left_index)\n",
        "\n",
        "            else:\n",
        "                temp = self.heap[right_index]\n",
        "                self.heap[right_index] = self.heap[parent_index]\n",
        "                self.heap[parent_index] = temp\n",
        "                self.sink(right_index)\n",
        "\n",
        "\n",
        "        elif left_index < self.last_index:\n",
        "            temp = self.heap[left_index]\n",
        "            self.heap[left_index] = self.heap[parent_index]\n",
        "            self.heap[parent_index] = temp\n",
        "            self.sink(left_index)\n",
        "\n",
        "        return\n",
        "\n",
        "    def print_heap(self):\n",
        "        print(self.heap[:self.last_index])\n",
        "\n",
        "    def sort(self):\n",
        "        original_size = self.last_index\n",
        "        for i in range(self.last_index-1, 0, -1):\n",
        "            temp = self.heap[1]\n",
        "            self.heap[1] = self.heap[i]\n",
        "            self.heap[i] = temp\n",
        "            self.last_index -= 1\n",
        "            self.sink(1)\n",
        "        self.last_index = original_size\n",
        "\n",
        "    def print_sorted(self):\n",
        "        self.sort()\n",
        "        print(self.heap[:self.last_index])\n",
        "\n",
        "heap = MinHeap(5)\n",
        "\n",
        "heap.insert(15)\n",
        "heap.insert(5)\n",
        "heap.insert(20)\n",
        "heap.insert(10)\n",
        "\n",
        "heap.print_heap()\n",
        "\n",
        "heap.extractMin()\n",
        "\n",
        "heap.print_heap()\n",
        "\n",
        "heap.print_sorted()"
      ],
      "metadata": {
        "colab": {
          "base_uri": "https://localhost:8080/"
        },
        "id": "76eeEKzbilc7",
        "outputId": "f03f7675-0e92-4383-d8bf-a0c63fea17a4"
      },
      "execution_count": 8,
      "outputs": [
        {
          "output_type": "stream",
          "name": "stdout",
          "text": [
            "[ 0  5 10 20 15]\n",
            "5 is removed\n",
            "[ 0 10 15 20]\n",
            "[ 0 20 15 10]\n"
          ]
        }
      ]
    },
    {
      "cell_type": "markdown",
      "source": [
        "#Task 2"
      ],
      "metadata": {
        "id": "6MEgInFLRgwx"
      }
    },
    {
      "cell_type": "code",
      "source": [
        "class MaxHeap:\n",
        "    def __init__(self, heap_length=10):\n",
        "        self.heap = np.array([0]*(heap_length+1))\n",
        "        self.last_index = 1\n",
        "\n",
        "    def insert(self, value):\n",
        "        if self.last_index >= len(self.heap):\n",
        "            print(\"heap is full!\")\n",
        "            return\n",
        "        self.heap[self.last_index] = value\n",
        "        self.swim(self.last_index)\n",
        "        self.last_index += 1\n",
        "\n",
        "    def swim(self, child_index):\n",
        "        if child_index == 1:\n",
        "            return\n",
        "        parent_index = child_index//2\n",
        "        if self.heap[parent_index]<self.heap[child_index]:\n",
        "            temp = self.heap[parent_index]\n",
        "            self.heap[parent_index] = self.heap[child_index]\n",
        "            self.heap[child_index] = temp\n",
        "            self.swim(parent_index)\n",
        "        return\n",
        "\n",
        "    def extractMax(self):\n",
        "        if self.last_index == 1:\n",
        "            print(\"heap is empty\")\n",
        "            return\n",
        "        temp = self.heap[1]\n",
        "        self.heap[1] = self.heap[self.last_index-1]\n",
        "        self.heap[self.last_index-1] = temp\n",
        "        self.last_index -= 1\n",
        "        self.sink(1)\n",
        "        return temp\n",
        "\n",
        "    def sink(self, parent_index):\n",
        "        left_index = 2*parent_index\n",
        "        right_index = 2*parent_index+1\n",
        "        largest = parent_index\n",
        "\n",
        "        if left_index < self.last_index and self.heap[left_index] > self.heap[largest]:\n",
        "            largest = left_index\n",
        "        if right_index < self.last_index and self.heap[right_index] > self.heap[largest]:\n",
        "            largest = right_index\n",
        "\n",
        "        if largest != parent_index:\n",
        "            temp = self.heap[parent_index]\n",
        "            self.heap[parent_index] = self.heap[largest]\n",
        "            self.heap[largest] = temp\n",
        "            self.sink(largest)\n",
        "\n",
        "    def print_heap(self):\n",
        "        print(self.heap[:self.last_index])\n",
        "\n",
        "    def sort(self):\n",
        "        original_size = self.last_index\n",
        "        for i in range(self.last_index-1, 0, -1):\n",
        "            temp = self.heap[i]\n",
        "            self.heap[i] = self.heap[1]\n",
        "            self.heap[1] = temp\n",
        "            self.last_index -= 1\n",
        "            self.sink(1)\n",
        "        self.last_index = original_size\n",
        "\n",
        "    def print_sorted(self):\n",
        "        self.sort()\n",
        "        print(self.heap[:self.last_index])\n",
        "\n",
        "heap = MaxHeap(5)\n",
        "heap.insert(15)\n",
        "heap.insert(5)\n",
        "heap.insert(20)\n",
        "heap.insert(15)\n",
        "heap.insert(10)\n",
        "heap.print_heap()\n",
        "print(heap.extractMax())\n",
        "heap.print_heap()\n",
        "heap.print_sorted()"
      ],
      "metadata": {
        "colab": {
          "base_uri": "https://localhost:8080/"
        },
        "id": "Hu9_0FVGRdnv",
        "outputId": "1cf7c299-9bbb-4f44-fe9a-ad496fcbf68a"
      },
      "execution_count": 17,
      "outputs": [
        {
          "output_type": "stream",
          "name": "stdout",
          "text": [
            "[ 0 20 15 15  5 10]\n",
            "20\n",
            "[ 0 15 10 15  5]\n",
            "[ 0  5 10 15 15]\n"
          ]
        }
      ]
    },
    {
      "cell_type": "markdown",
      "source": [
        "#Task 4\n"
      ],
      "metadata": {
        "id": "BdyiNOH2a4Ss"
      }
    },
    {
      "cell_type": "code",
      "source": [
        "class MaxHeap:\n",
        "    def __init__(self, heap_length=10):\n",
        "        self.heap = np.array([0]*(heap_length+1))\n",
        "        self.last_index = 1\n",
        "\n",
        "    def insert(self, value):\n",
        "        if self.last_index >= len(self.heap):\n",
        "            print(\"heap is full!\")\n",
        "            return\n",
        "        self.heap[self.last_index] = value\n",
        "        self.swim(self.last_index)\n",
        "        self.last_index += 1\n",
        "\n",
        "    def swim(self, child_index):\n",
        "        if child_index == 1:\n",
        "            return\n",
        "        parent_index = child_index//2\n",
        "        if self.heap[parent_index]<self.heap[child_index]:\n",
        "            temp = self.heap[parent_index]\n",
        "            self.heap[parent_index] = self.heap[child_index]\n",
        "            self.heap[child_index] = temp\n",
        "            self.swim(parent_index)\n",
        "        return\n",
        "\n",
        "    def extractMax(self):\n",
        "        if self.last_index == 1:\n",
        "            print(\"heap is empty\")\n",
        "            return\n",
        "        temp = self.heap[1]\n",
        "        self.heap[1] = self.heap[self.last_index-1]\n",
        "        self.heap[self.last_index-1] = temp\n",
        "        self.last_index -= 1\n",
        "        self.sink(1)\n",
        "        # print(f\"{temp} is removed\")\n",
        "        return temp\n",
        "\n",
        "    def sink(self, parent_index):\n",
        "        left_index = 2*parent_index\n",
        "        right_index = 2*parent_index+1\n",
        "        largest = parent_index\n",
        "\n",
        "        if left_index < self.last_index and self.heap[left_index] > self.heap[largest]:\n",
        "            largest = left_index\n",
        "        if right_index < self.last_index and self.heap[right_index] > self.heap[largest]:\n",
        "            largest = right_index\n",
        "\n",
        "        if largest != parent_index:\n",
        "            temp = self.heap[parent_index]\n",
        "            self.heap[parent_index] = self.heap[largest]\n",
        "            self.heap[largest] = temp\n",
        "            self.sink(largest)\n",
        "\n",
        "    def print_heap(self):\n",
        "        print(self.heap[:self.last_index])\n",
        "\n",
        "    def sort(self):\n",
        "        original_size = self.last_index\n",
        "        for i in range(self.last_index-1, 0, -1):\n",
        "            temp = self.heap[i]\n",
        "            self.heap[i] = self.heap[1]\n",
        "            self.heap[1] = temp\n",
        "            self.last_index -= 1\n",
        "            self.sink(1)\n",
        "        self.last_index = original_size\n",
        "\n",
        "    def print_sorted(self):\n",
        "        self.sort()\n",
        "        print(self.heap[:self.last_index])\n",
        "\n",
        "    def extract(self, k, arr, i=0):\n",
        "        if k == 0:\n",
        "            print(arr)\n",
        "            return\n",
        "        arr[i] = self.extractMax()\n",
        "        self.extract(k-1, arr, i+1)\n",
        "\n",
        "nums = [4, 10, 2, 8, 6, 7]\n",
        "heap = MaxHeap(len(nums))\n",
        "for i in nums:\n",
        "    heap.insert(i)\n",
        "heap.print_heap()\n",
        "heap.extract(3, np.array([0]*3))"
      ],
      "metadata": {
        "colab": {
          "base_uri": "https://localhost:8080/"
        },
        "id": "u8gOGjgsa6Hs",
        "outputId": "8d1b1257-35f4-416d-c846-545e5f054dfc"
      },
      "execution_count": 15,
      "outputs": [
        {
          "output_type": "stream",
          "name": "stdout",
          "text": [
            "[ 0 10  8  7  4  6  2]\n",
            "[10  8  7]\n"
          ]
        }
      ]
    },
    {
      "cell_type": "markdown",
      "source": [
        "#Practice"
      ],
      "metadata": {
        "id": "sN-yA-B1a87u"
      }
    },
    {
      "cell_type": "code",
      "source": [
        "class MaxHeap:\n",
        "    def __init__(self, capacity):\n",
        "        self.capacity = capacity\n",
        "        self.heap = [0] * capacity\n",
        "        self.size = 0\n",
        "\n",
        "    def insert(self, value):\n",
        "        if self.size == self.capacity:\n",
        "            print(\"Heap is full\")\n",
        "            return\n",
        "        self.heap[self.size] = value\n",
        "        self._swim(self.size)\n",
        "        self.size += 1\n",
        "\n",
        "    def _swim(self, child_index):\n",
        "        if child_index == 0:\n",
        "            return\n",
        "        parent_index = child_index//2\n",
        "        if self.heap[parent_index]<self.heap[child_index]:\n",
        "            temp = self.heap[parent_index]\n",
        "            self.heap[parent_index] = self.heap[child_index]\n",
        "            self.heap[child_index] = temp\n",
        "            self._swim(parent_index)\n",
        "        return\n",
        "\n",
        "    def _parent(self, index):\n",
        "        return (index - 1) // 2\n",
        "\n",
        "    def extractMax(self):\n",
        "        if self.size == 0:\n",
        "            print(\"Heap is empty\")\n",
        "            return\n",
        "        max_val = self.heap[0]\n",
        "        self._swap(0, self.size - 1)\n",
        "        self.size -= 1\n",
        "        self.sink(0)\n",
        "        return max_val\n",
        "\n",
        "    def sink(self, index):\n",
        "        largest = index\n",
        "        left = 2 * index + 1\n",
        "        right = 2 * index + 2\n",
        "\n",
        "        if left < self.size and self.heap[left] > self.heap[largest]:\n",
        "            largest = left\n",
        "        if right < self.size and self.heap[right] > self.heap[largest]:\n",
        "            largest = right\n",
        "\n",
        "        if largest != index:\n",
        "            self._swap(index, largest)\n",
        "            self.sink(largest)\n",
        "\n",
        "    def _swap(self, i, j):\n",
        "        self.heap[i], self.heap[j] = self.heap[j], self.heap[i]\n",
        "\n",
        "    def heap_sort(self):\n",
        "        original_size = self.size\n",
        "        for i in range(self.size - 1, 0, -1):\n",
        "            self._swap(0, i)\n",
        "            self.size -= 1\n",
        "            self._heapify(0)\n",
        "        self.size = original_size\n",
        "\n",
        "    def print_heap(self):\n",
        "        print(self.heap[:self.size])\n",
        "\n",
        "    def print_sorted(self):\n",
        "        self.heap_sort()\n",
        "        print(self.heap[:self.size])\n",
        "\n",
        "    def extract(self, k, arr, i=0):\n",
        "        if k == 0:\n",
        "            print(arr)\n",
        "            return\n",
        "        arr[i] = self.extractMax()\n",
        "        self.extract(k-1, arr, i+1)\n",
        "\n",
        "nums = [4, 10, 2, 8, 6, 7]\n",
        "heap = MaxHeap(len(nums))\n",
        "for i in nums:\n",
        "    heap.insert(i)\n",
        "heap.print_heap()\n",
        "heap.extract(3, np.array([0]*3))"
      ],
      "metadata": {
        "id": "h95YOvjUn6rM",
        "colab": {
          "base_uri": "https://localhost:8080/"
        },
        "outputId": "e938426a-db83-46a3-e7b6-79ee79a6a9fd"
      },
      "execution_count": 11,
      "outputs": [
        {
          "output_type": "stream",
          "name": "stdout",
          "text": [
            "[10, 8, 7, 4, 2, 6]\n",
            "[10  8  7]\n"
          ]
        }
      ]
    },
    {
      "cell_type": "code",
      "source": [
        "class MaxHeap:\n",
        "    def __init__(self, capacity):\n",
        "        self.capacity = capacity\n",
        "        self.heap = [0] * capacity\n",
        "        self.size = 0\n",
        "\n",
        "    def insert(self, value):\n",
        "        if self.size == self.capacity:\n",
        "            print(\"Heap is full\")\n",
        "            return\n",
        "        self.heap[self.size] = value\n",
        "        self._swim(self.size)\n",
        "        self.size += 1\n",
        "\n",
        "    def _swim(self, child_index):\n",
        "        if child_index == 0:\n",
        "            return\n",
        "        parent_index = child_index//2\n",
        "        if self.heap[parent_index]<self.heap[child_index]:\n",
        "            temp = self.heap[parent_index]\n",
        "            self.heap[parent_index] = self.heap[child_index]\n",
        "            self.heap[child_index] = temp\n",
        "            self._swim(parent_index)\n",
        "        return\n",
        "\n",
        "    def _parent(self, index):\n",
        "        return (index - 1) // 2\n",
        "\n",
        "    def extractMax(self):\n",
        "        if self.size == 0:\n",
        "            print(\"Heap is empty\")\n",
        "            return\n",
        "        max_val = self.heap[0]\n",
        "        self._swap(0, self.size - 1)\n",
        "        self.size -= 1\n",
        "        self.sink(0)\n",
        "        return max_val\n",
        "\n",
        "    def sink(self, index):\n",
        "        largest = index\n",
        "        left = 2 * index + 1\n",
        "        right = 2 * index + 2\n",
        "\n",
        "        if left < self.size and self.heap[left] > self.heap[largest]:\n",
        "            largest = left\n",
        "        if right < self.size and self.heap[right] > self.heap[largest]:\n",
        "            largest = right\n",
        "\n",
        "        if largest != index:\n",
        "            self._swap(index, largest)\n",
        "            self.sink(largest)\n",
        "\n",
        "    def _swap(self, i, j):\n",
        "        self.heap[i], self.heap[j] = self.heap[j], self.heap[i]\n",
        "\n",
        "    def heap_sort(self):\n",
        "        original_size = self.size\n",
        "        for i in range(self.size - 1, 0, -1):\n",
        "            self._swap(0, i)\n",
        "            self.size -= 1\n",
        "            self._heapify(0)\n",
        "        self.size = original_size\n",
        "\n",
        "    def print_heap(self):\n",
        "        print(self.heap[:self.size])\n",
        "\n",
        "    def print_sorted(self):\n",
        "        self.heap_sort()\n",
        "        print(self.heap[:self.size])\n",
        "\n",
        "    def extract(self, k, arr=[]):\n",
        "        if k == 0:\n",
        "            print(arr)\n",
        "            return\n",
        "        arr += [self.extractMax()]\n",
        "        self.extract(k-1, arr)\n",
        "\n",
        "    def extract(self, k, arr, i=0):\n",
        "        if k == 0:\n",
        "            print(arr)\n",
        "            return\n",
        "        arr[i] = self.extractMax()\n",
        "        self.extract(k-1, arr, i+1)\n",
        "\n",
        "nums = [4, 10, 2, 8, 6, 7]\n",
        "heap = MaxHeap(len(nums))\n",
        "for i in nums:\n",
        "    heap.insert(i)\n",
        "heap.print_heap()\n",
        "heap.extract(3, np.array([0]*3))"
      ],
      "metadata": {
        "colab": {
          "base_uri": "https://localhost:8080/"
        },
        "id": "RbYROEcjTOPM",
        "outputId": "7fc83cbf-19c7-45d2-d59e-709885ae2009"
      },
      "execution_count": 12,
      "outputs": [
        {
          "output_type": "stream",
          "name": "stdout",
          "text": [
            "[10, 8, 7, 4, 2, 6]\n",
            "[10  8  7]\n"
          ]
        }
      ]
    },
    {
      "cell_type": "code",
      "source": [],
      "metadata": {
        "id": "3UrMpYsbVGFk"
      },
      "execution_count": null,
      "outputs": []
    }
  ]
}