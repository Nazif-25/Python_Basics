{
  "cells": [
    {
      "cell_type": "markdown",
      "metadata": {
        "id": "view-in-github",
        "colab_type": "text"
      },
      "source": [
        "<a href=\"https://colab.research.google.com/github/Nazif-25/Python_Basics/blob/main/Lab6_23301482_MOHAMMAD_NAZIF_RAHMAN_S19.ipynb\" target=\"_parent\"><img src=\"https://colab.research.google.com/assets/colab-badge.svg\" alt=\"Open In Colab\"/></a>"
      ]
    },
    {
      "cell_type": "markdown",
      "source": [
        "#Must run the following code:"
      ],
      "metadata": {
        "id": "jJFKuvDtn_D_"
      }
    },
    {
      "cell_type": "code",
      "execution_count": 36,
      "metadata": {
        "id": "D6vC520OPeTa"
      },
      "outputs": [],
      "source": [
        "class BTNode:\n",
        "  def __init__(self, elem):\n",
        "    self.elem = elem\n",
        "    self.right = None\n",
        "    self.left = None"
      ]
    },
    {
      "cell_type": "code",
      "execution_count": 37,
      "metadata": {
        "id": "UDTKlm4-PfNM"
      },
      "outputs": [],
      "source": [
        "def inorder(root):\n",
        "  if root == None:\n",
        "    return\n",
        "\n",
        "  inorder(root.left)\n",
        "  print(root.elem, end = ' ')\n",
        "  inorder(root.right)"
      ]
    },
    {
      "cell_type": "code",
      "execution_count": 38,
      "metadata": {
        "id": "Rtc22SPzPgzM",
        "colab": {
          "base_uri": "https://localhost:8080/"
        },
        "outputId": "59217553-d1d3-4172-8ac1-365c1fdcfcc1"
      },
      "outputs": [
        {
          "output_type": "stream",
          "name": "stdout",
          "text": [
            "H D B E A I F J C G k "
          ]
        }
      ],
      "source": [
        "def tree_construction(arr, i = 1):\n",
        "  if i>=len(arr) or arr[i] == None:\n",
        "    return None\n",
        "  p = BTNode(arr[i])\n",
        "  p.left = tree_construction(arr, 2*i)\n",
        "  p.right = tree_construction(arr, 2*i+1)\n",
        "  return p\n",
        "\n",
        "\n",
        "root2 = tree_construction([None, 'A', 'B', 'C', 'D', 'E', 'F', 'G', 'H', None, None, None, 'I', 'J', None, 'k'])\n",
        "inorder(root2)"
      ]
    },
    {
      "cell_type": "markdown",
      "metadata": {
        "id": "S2nNCJNhPqGq"
      },
      "source": [
        "#Task 1"
      ]
    },
    {
      "cell_type": "code",
      "execution_count": null,
      "metadata": {
        "id": "zbBHU3FoPieb",
        "colab": {
          "base_uri": "https://localhost:8080/"
        },
        "outputId": "cd360020-d4a4-4079-f457-4bda688f92b4"
      },
      "outputs": [
        {
          "output_type": "stream",
          "name": "stdout",
          "text": [
            "Given Tree Inorder Traversal:  40 20 60 10 30 \n",
            "Mirrored Tree Inorder Traversal:  30 10 60 20 40 "
          ]
        }
      ],
      "source": [
        "def convert_mirror(root):\n",
        "    #To Do\n",
        "    if root == None:\n",
        "        return None\n",
        "    if root!=None:\n",
        "        copied_root = BTNode(root.elem)\n",
        "        copied_root.left = convert_mirror(root.right)\n",
        "        copied_root.right = convert_mirror(root.left)\n",
        "    return copied_root\n",
        "\n",
        "#DRIVER CODE\n",
        "root = BTNode(10)\n",
        "n1 = BTNode(20)\n",
        "n2 = BTNode(30)\n",
        "n3 = BTNode(40)\n",
        "n4 = BTNode(60)\n",
        "\n",
        "root.left = n1\n",
        "root.right = n2\n",
        "\n",
        "n1.left = n3\n",
        "n1.right = n4\n",
        "\n",
        "print('Given Tree Inorder Traversal: ', end = ' ')\n",
        "inorder(root) #Given Tree Inorder Traversal:  40 20 60 10 30\n",
        "print()\n",
        "\n",
        "root2 = convert_mirror(root)\n",
        "print('Mirrored Tree Inorder Traversal: ', end = ' ')\n",
        "inorder(root2) #Mirrored Tree Inorder Traversal:  30 10 60 20 40"
      ]
    },
    {
      "cell_type": "markdown",
      "source": [
        "#Finding Depth and Level"
      ],
      "metadata": {
        "id": "fpHc3y0YnwDq"
      }
    },
    {
      "cell_type": "code",
      "source": [
        "def depth(root, targetValue, currentDepth):\n",
        "    if root == None:\n",
        "        return -1\n",
        "    if root.elem == targetValue:\n",
        "        return currentDepth\n",
        "    left = depth(root.left, targetValue, currentDepth+1)\n",
        "    if left!=-1:\n",
        "        return left\n",
        "    else:\n",
        "        right = depth(root.right, targetValue, currentDepth+1)\n",
        "        return right\n",
        "\n",
        "def level(node, targetValue, currentLevel):\n",
        "    if node is None:\n",
        "        return -1\n",
        "    if node.elem == targetValue:\n",
        "        return currentLevel\n",
        "    left = level(node.left, targetValue, currentLevel+1)\n",
        "    if left != -1:\n",
        "        return left\n",
        "    return level(node.right, targetValue, currentLevel+1)\n",
        "\n",
        "    # if you start counting from level 1 instead of 2\n",
        "    #     return 1+left\n",
        "    # return 1+level(node.right, targetValue, currentLevel+1)\n",
        "\n",
        "print(depth(root2, \"E\", 0))\n",
        "print(level(root2, \"E\", 0))"
      ],
      "metadata": {
        "colab": {
          "base_uri": "https://localhost:8080/"
        },
        "id": "jwBvr2-Fmt40",
        "outputId": "b4cc0785-23e1-4c14-ea78-be1d3cf2a8ec"
      },
      "execution_count": null,
      "outputs": [
        {
          "output_type": "stream",
          "name": "stdout",
          "text": [
            "2\n",
            "2\n"
          ]
        }
      ]
    },
    {
      "cell_type": "markdown",
      "source": [
        "#Finding Degree of a node"
      ],
      "metadata": {
        "id": "oQVll1PJPfdm"
      }
    },
    {
      "cell_type": "code",
      "source": [
        "def degree(node, target):\n",
        "    if node is None:\n",
        "        return -1  # Target not found in this path\n",
        "\n",
        "    if node.elem == target:\n",
        "        value = 0\n",
        "        if node.left is not None:\n",
        "            value += 1\n",
        "        if node.right is not None:\n",
        "            value += 1\n",
        "        return value\n",
        "\n",
        "    # Search left and right\n",
        "    left = degree(node.left, target)\n",
        "    if left != -1:\n",
        "        return left\n",
        "    return degree(node.right, target)\n",
        "root = BTNode(\"A\")\n",
        "root.right = BTNode(\"B\")\n",
        "root.left = BTNode(\"C\")\n",
        "root.right.right = BTNode(\"D\")\n",
        "root.right.right.right = BTNode(\"E\")\n",
        "root.right.right.left = BTNode(\"F\")\n",
        "print(degree(root, \"E\"))"
      ],
      "metadata": {
        "colab": {
          "base_uri": "https://localhost:8080/"
        },
        "id": "KU0Fb_sLUAZ4",
        "outputId": "1af3ab27-6f0e-44fa-ab1b-21979cabe956"
      },
      "execution_count": null,
      "outputs": [
        {
          "output_type": "stream",
          "name": "stdout",
          "text": [
            "0\n"
          ]
        }
      ]
    },
    {
      "cell_type": "markdown",
      "source": [
        "#Finding the sum of nodes in a binary tree"
      ],
      "metadata": {
        "id": "D_8yf32QXxBW"
      }
    },
    {
      "cell_type": "code",
      "source": [
        "def find_sum(root):\n",
        "    if root is None:\n",
        "        return 0\n",
        "    left = find_sum(root.left)\n",
        "    right = find_sum(root.right)\n",
        "    return root.elem+left+right\n",
        "root = BTNode(1)\n",
        "root.right = BTNode(2)\n",
        "root.left = BTNode(3)\n",
        "root.right.right = BTNode(6)\n",
        "print(find_sum(root))"
      ],
      "metadata": {
        "colab": {
          "base_uri": "https://localhost:8080/"
        },
        "id": "RtP1py1yXvf2",
        "outputId": "e2a99269-e1b7-4cf7-a2b7-8dd1ef23334a"
      },
      "execution_count": null,
      "outputs": [
        {
          "output_type": "stream",
          "name": "stdout",
          "text": [
            "12\n"
          ]
        }
      ]
    },
    {
      "cell_type": "markdown",
      "metadata": {
        "id": "c-TBf3m0PrtK"
      },
      "source": [
        "#Task 2"
      ]
    },
    {
      "cell_type": "code",
      "execution_count": null,
      "metadata": {
        "id": "lsuxinlBPmji",
        "colab": {
          "base_uri": "https://localhost:8080/"
        },
        "outputId": "9e0adb91-bf0e-4b88-a7cf-2bf4405913f5"
      },
      "outputs": [
        {
          "output_type": "stream",
          "name": "stdout",
          "text": [
            "Given Tree Inorder Traversal:  3 9 -5 4 2 7 \n",
            "Level Wise Smallest Value:  {0: 4, 1: 2, 2: -5}\n"
          ]
        }
      ],
      "source": [
        "def smallest_level(root, level = {}, i = 0):\n",
        "    #To Do\n",
        "    if root is None:\n",
        "        return\n",
        "\n",
        "    if i not in level:\n",
        "        level[i] = root.elem\n",
        "    else:\n",
        "        if level[i]>root.elem:\n",
        "            level[i] = root.elem\n",
        "\n",
        "    smallest_level(root.left, level, i+1)\n",
        "\n",
        "    smallest_level(root.right, level, i+1)\n",
        "\n",
        "    return level\n",
        "\n",
        "\n",
        "#DRIVER CODE\n",
        "root = tree_construction([None, 4,9,2,3,-5,None,7])\n",
        "print('Given Tree Inorder Traversal: ', end = ' ')\n",
        "inorder(root) #Given Tree Inorder Traversal:  3 9 5 4 2 7\n",
        "print()\n",
        "print('Level Wise Smallest Value: ', end = ' ')\n",
        "print(smallest_level(root)) #Level Wise Smallest Value:  {0: 4, 1: 2, 2: -5}"
      ]
    },
    {
      "cell_type": "markdown",
      "source": [
        "#Finding the max value in a tree"
      ],
      "metadata": {
        "id": "PvVmraDM5zTk"
      }
    },
    {
      "cell_type": "code",
      "source": [
        "def find_max(root):\n",
        "    if root is None:\n",
        "        return float('-inf')\n",
        "    left = find_max(root.left)\n",
        "    right = find_max(root.right)\n",
        "    return max(root.elem, left, right)\n",
        "print(find_max(root))"
      ],
      "metadata": {
        "colab": {
          "base_uri": "https://localhost:8080/"
        },
        "id": "ML3x2tKg521w",
        "outputId": "1d14c42d-d2be-469c-ac30-53033953cced"
      },
      "execution_count": null,
      "outputs": [
        {
          "output_type": "stream",
          "name": "stdout",
          "text": [
            "9\n"
          ]
        }
      ]
    },
    {
      "cell_type": "markdown",
      "source": [
        "#Finding the min value in a tree"
      ],
      "metadata": {
        "id": "pSRYF-EL8Rff"
      }
    },
    {
      "cell_type": "code",
      "source": [
        "def find_min(root):\n",
        "    if root is None:\n",
        "        return float('inf')\n",
        "    left = find_min(root.left)\n",
        "    right = find_min(root.right)\n",
        "    return min(left, right, root.elem)\n",
        "print(find_min(root))"
      ],
      "metadata": {
        "colab": {
          "base_uri": "https://localhost:8080/"
        },
        "id": "9-2ERfoq8VCi",
        "outputId": "bf72ad5e-ee15-4148-9fbf-1f149d896e9c"
      },
      "execution_count": null,
      "outputs": [
        {
          "output_type": "stream",
          "name": "stdout",
          "text": [
            "-5\n"
          ]
        }
      ]
    },
    {
      "cell_type": "markdown",
      "source": [
        "#Finding the height of a tree"
      ],
      "metadata": {
        "id": "JBgGrDVG6yHZ"
      }
    },
    {
      "cell_type": "code",
      "source": [
        "def find_height(root):\n",
        "    if root is None:\n",
        "        return -1\n",
        "    left = find_height(root.left)\n",
        "    right = find_height(root.right)\n",
        "    return 1+max(left, right)\n",
        "print(find_height(root))"
      ],
      "metadata": {
        "colab": {
          "base_uri": "https://localhost:8080/"
        },
        "id": "5xoOfcqa60nE",
        "outputId": "3f9ca87c-1ac7-454d-9d3d-21f54976e373"
      },
      "execution_count": null,
      "outputs": [
        {
          "output_type": "stream",
          "name": "stdout",
          "text": [
            "2\n"
          ]
        }
      ]
    },
    {
      "cell_type": "markdown",
      "source": [
        "#Finding the number of nodes"
      ],
      "metadata": {
        "id": "BOG7RJVw6qLY"
      }
    },
    {
      "cell_type": "code",
      "source": [
        "def count_nodes(root):\n",
        "    if root is None:\n",
        "        return 0\n",
        "    return 1+count_nodes(root.left)+count_nodes(root.right)\n",
        "\n",
        "print(count_nodes(root))"
      ],
      "metadata": {
        "colab": {
          "base_uri": "https://localhost:8080/"
        },
        "id": "ta1tAB9P6teR",
        "outputId": "57de9e62-2c94-4628-f3d7-8c5169b7a77c"
      },
      "execution_count": null,
      "outputs": [
        {
          "output_type": "stream",
          "name": "stdout",
          "text": [
            "3\n"
          ]
        }
      ]
    },
    {
      "cell_type": "markdown",
      "source": [
        "#Check if it's a full binary tree"
      ],
      "metadata": {
        "id": "AiHGp3709DHJ"
      }
    },
    {
      "cell_type": "code",
      "source": [
        "def is_full(root):\n",
        "    if root is None:\n",
        "        return True\n",
        "    if (root.right is None and root.left is not None) or (root.left is None and root.right is not None):\n",
        "        return False\n",
        "    return (is_full(root.right) and is_full(root.left))\n",
        "\n",
        "root = BTNode(1)\n",
        "root.right = BTNode(2)\n",
        "root.left = BTNode(3)\n",
        "print(is_full(root))"
      ],
      "metadata": {
        "colab": {
          "base_uri": "https://localhost:8080/"
        },
        "id": "VBvk9Pi19CWq",
        "outputId": "e6d5380f-889b-4d20-8f04-095dd53f1e06"
      },
      "execution_count": null,
      "outputs": [
        {
          "output_type": "stream",
          "name": "stdout",
          "text": [
            "True\n"
          ]
        }
      ]
    },
    {
      "cell_type": "markdown",
      "source": [
        "#Tree\n"
      ],
      "metadata": {
        "id": "saqeI-hgZgd2"
      }
    },
    {
      "cell_type": "code",
      "source": [
        "root = BTNode(1)\n",
        "root.right = BTNode(2)\n",
        "root.right.right = BTNode(3)\n",
        "root.right.left = BTNode(4)\n",
        "root.left = BTNode(2)\n",
        "root.left.left = BTNode(3)\n",
        "root.left.right = BTNode(4)\n",
        "root.left.left.right = BTNode(5)\n",
        "print(\"In order: \",end=\" \")\n",
        "inOrder(root)\n",
        "print(\"Pre order: \",end=\" \")\n",
        "preOrder(root)\n",
        "print(\"Post order: \",end=\" \")\n",
        "postOrder(root)"
      ],
      "metadata": {
        "colab": {
          "base_uri": "https://localhost:8080/"
        },
        "id": "B48LoAdmZfPS",
        "outputId": "57d8f282-6403-4b3b-ab23-047c83a9ffc1"
      },
      "execution_count": 39,
      "outputs": [
        {
          "output_type": "stream",
          "name": "stdout",
          "text": [
            "In order:  Pre order:  1 2 3 5 4 2 4 3 Post order:  5 3 4 2 4 3 2 1 "
          ]
        }
      ]
    },
    {
      "cell_type": "markdown",
      "source": [
        "#Is symmetric"
      ],
      "metadata": {
        "id": "Qd-PipjGbhxP"
      }
    },
    {
      "cell_type": "code",
      "source": [
        "def isSymmetric(root):\n",
        "    arr = []\n",
        "    def inOrder(root):\n",
        "        if root is None:\n",
        "            return\n",
        "        inOrder(root.left)\n",
        "        arr.append(root.elem)\n",
        "        inOrder(root.right)\n",
        "\n",
        "    inOrder(root)\n",
        "    i = 0\n",
        "    j = len(arr)-1\n",
        "    state = True\n",
        "    while i<j:\n",
        "        if arr[i] == arr[j]:\n",
        "            state = True\n",
        "        else:\n",
        "            state = False\n",
        "        i+=1\n",
        "        j-=1\n",
        "    return state\n",
        "\n",
        "print(isSymmetric(root))"
      ],
      "metadata": {
        "colab": {
          "base_uri": "https://localhost:8080/"
        },
        "id": "XNg7QJJ4bj8U",
        "outputId": "25fb8944-aed4-4680-fe9f-3de7135d0817"
      },
      "execution_count": null,
      "outputs": [
        {
          "output_type": "stream",
          "name": "stdout",
          "text": [
            "False\n"
          ]
        }
      ]
    },
    {
      "cell_type": "code",
      "source": [
        "# Better Approach\n",
        "def is_symmetric(root):\n",
        "    def is_symmetric_help(leftNode, rightNode):\n",
        "\n",
        "        if leftNode == None or rightNode == None:\n",
        "            return leftNode == rightNode\n",
        "\n",
        "        if leftNode.elem != rightNode.elem:\n",
        "            return False\n",
        "\n",
        "        return is_symmetric_help(leftNode.left, rightNode.right) and is_symmetric_help(leftNode.right, rightNode.left)\n",
        "\n",
        "    return root==None or is_symmetric_help(root.left, root.right)\n",
        "\n",
        "print(is_symmetric(root))\n"
      ],
      "metadata": {
        "colab": {
          "base_uri": "https://localhost:8080/"
        },
        "id": "r9R-sRXtiF0Z",
        "outputId": "82a409fa-dc26-43eb-ce69-41b67f06e7bb"
      },
      "execution_count": null,
      "outputs": [
        {
          "output_type": "stream",
          "name": "stdout",
          "text": [
            "False\n"
          ]
        }
      ]
    },
    {
      "cell_type": "markdown",
      "source": [
        "#Is identical"
      ],
      "metadata": {
        "id": "cgvnlLOPryaH"
      }
    },
    {
      "cell_type": "code",
      "source": [
        "def is_identical(root1, root2):\n",
        "    def is_identical_helper(tree1_node, tree2_node):\n",
        "        if tree1_node == None or tree2_node == None:\n",
        "            return tree1_node == tree2_node\n",
        "        if tree1_node.elem != tree2_node.elem:\n",
        "            return False\n",
        "        return (is_identical_helper(tree1_node.left, tree2_node.left) and is_identical_helper(tree1_node.right, tree2_node.right))\n",
        "\n",
        "    return root==None or (is_identical_helper(root1.left, root2.left) and is_identical_helper(root1.right, root2.right))\n",
        "\n",
        "root1 = BTNode(1)\n",
        "root1.right = BTNode(3)\n",
        "root1.left = BTNode(2)\n",
        "root2.right.right = BTNode(5)\n",
        "\n",
        "root2 = BTNode(1)\n",
        "root2.right = BTNode(3)\n",
        "root2.left = BTNode(2)\n",
        "root2.right.right = BTNode(4)\n",
        "\n",
        "print(is_identical(root1, root2))"
      ],
      "metadata": {
        "id": "PMH8NfElr0PJ",
        "colab": {
          "base_uri": "https://localhost:8080/"
        },
        "outputId": "ea9bfc9f-cc09-4045-f610-322d0bbee646"
      },
      "execution_count": 44,
      "outputs": [
        {
          "output_type": "stream",
          "name": "stdout",
          "text": [
            "False\n"
          ]
        }
      ]
    },
    {
      "cell_type": "markdown",
      "source": [
        "#In order traversal\n",
        "N.B. sorts the data in ascending order"
      ],
      "metadata": {
        "id": "YvtAbRPZ-mfZ"
      }
    },
    {
      "cell_type": "code",
      "source": [
        "def inOrder(root):\n",
        "    if root is None:\n",
        "        return\n",
        "    inOrder(root.left)\n",
        "    print(f\"{root.elem}\", end=\" \")\n",
        "    inOrder(root.right)\n",
        "\n",
        "inOrder(root)"
      ],
      "metadata": {
        "colab": {
          "base_uri": "https://localhost:8080/"
        },
        "id": "iD39DZ25-p90",
        "outputId": "4606e283-30f4-4484-a091-040d8033fd46"
      },
      "execution_count": null,
      "outputs": [
        {
          "output_type": "stream",
          "name": "stdout",
          "text": [
            "3 2 4 1 4 2 3 "
          ]
        }
      ]
    },
    {
      "cell_type": "markdown",
      "source": [
        "#Post order traversal"
      ],
      "metadata": {
        "id": "MVCTRhjN_UOa"
      }
    },
    {
      "cell_type": "code",
      "source": [
        "def postOrder(root):\n",
        "    if root is None:\n",
        "        return\n",
        "    postOrder(root.left)\n",
        "    postOrder(root.right)\n",
        "    print(f\"{root.elem}\", end=\" \")\n",
        "postOrder(root)"
      ],
      "metadata": {
        "colab": {
          "base_uri": "https://localhost:8080/"
        },
        "id": "bL_Bh3_c_T0M",
        "outputId": "3d3f3efe-80e5-40b5-b01e-9ef066db469a"
      },
      "execution_count": null,
      "outputs": [
        {
          "output_type": "stream",
          "name": "stdout",
          "text": [
            "3 4 2 4 3 2 1 "
          ]
        }
      ]
    },
    {
      "cell_type": "markdown",
      "source": [
        "#Pre order traversal"
      ],
      "metadata": {
        "id": "lF-M5mtk_lwJ"
      }
    },
    {
      "cell_type": "code",
      "source": [
        "def preOrder(root):\n",
        "    if root is None:\n",
        "        return\n",
        "    print(f\"{root.elem}\", end=\" \")\n",
        "    preOrder(root.left)\n",
        "    preOrder(root.right)\n",
        "preOrder(root)"
      ],
      "metadata": {
        "colab": {
          "base_uri": "https://localhost:8080/"
        },
        "id": "pyVcIBYu_meh",
        "outputId": "00b7db2c-b1b8-482a-b9b0-fb65f425eec0"
      },
      "execution_count": null,
      "outputs": [
        {
          "output_type": "stream",
          "name": "stdout",
          "text": [
            "1 2 3 4 2 4 3 "
          ]
        }
      ]
    },
    {
      "cell_type": "markdown",
      "metadata": {
        "id": "t3IGW4OaP8Vy"
      },
      "source": [
        "#Task 3"
      ]
    },
    {
      "cell_type": "code",
      "source": [
        "def function(node, level):\n",
        "    if node == None:\n",
        "        return 0\n",
        "\n",
        "    if level == 0:\n",
        "        sum = node.elem\n",
        "    else:\n",
        "        sum = node.elem % level\n",
        "\n",
        "    leftSum = function(node.left, level+1)\n",
        "    rightSum = function(node.right, level+1)\n",
        "    return sum + leftSum + rightSum\n",
        "\n",
        "def sumTree(root):\n",
        "    findSum = function(root, 0)\n",
        "    return findSum\n",
        "# To DO\n",
        "#you can declare as many helper function with extra parameters as you need .\n",
        "#You can not modify the parameters of sumTree or modify any part of the given code."
      ],
      "metadata": {
        "id": "XXZQ131dK702"
      },
      "execution_count": null,
      "outputs": []
    },
    {
      "cell_type": "code",
      "source": [
        "#Driver Code\n",
        "#Input 1\n",
        "root1 = BTNode(9)\n",
        "node2 = BTNode(4)\n",
        "node3 = BTNode(5)\n",
        "node4 = BTNode(18)\n",
        "node5 = BTNode(14)\n",
        "node6 = BTNode(3)\n",
        "node7 = BTNode(54)\n",
        "node8 = BTNode(12)\n",
        "node9 = BTNode(8)\n",
        "node10 = BTNode(91)\n",
        "node11 = BTNode(56)\n",
        "\n",
        "root1.left = node2\n",
        "root1.right = node3\n",
        "\n",
        "node2.left = node4\n",
        "\n",
        "node3.left = node5\n",
        "node3.right = node6\n",
        "\n",
        "node4.left = node7\n",
        "node4.right = node8\n",
        "\n",
        "node5.left = node9\n",
        "\n",
        "node8.left = node10\n",
        "node8.right = node11\n",
        "\n",
        "print(sumTree(root1)) #This should print 15"
      ],
      "metadata": {
        "id": "wV3ezsf_Kwli",
        "colab": {
          "base_uri": "https://localhost:8080/"
        },
        "outputId": "eb01845b-073f-4b5a-a632-aa7616b44001"
      },
      "execution_count": null,
      "outputs": [
        {
          "output_type": "stream",
          "name": "stdout",
          "text": [
            "15\n"
          ]
        }
      ]
    },
    {
      "cell_type": "markdown",
      "source": [
        "#Task 4\n"
      ],
      "metadata": {
        "id": "8GJeWub8Ki1X"
      }
    },
    {
      "cell_type": "code",
      "source": [
        "def swap_child(root, level, M):\n",
        "  #To Do\n",
        "    if root is None:\n",
        "        return None\n",
        "    copied_root = BTNode(root.elem)\n",
        "    if level<=M:\n",
        "        copied_root.left  =  swap_child(root.right, level+1, M)\n",
        "        copied_root.right = swap_child(root.left, level+1, M)\n",
        "    # else:\n",
        "    #     copied_root.left = swap_child(root.left, level+1, M)\n",
        "    #     copied_root.right = swap_child(root.right, level+1, M)\n",
        "    return copied_root\n",
        "\n",
        "\n",
        "#Driver Code\n",
        "root=BTNode('A')\n",
        "#Write other nodes by yourself from the given tree of Doc File\n",
        "root.left = BTNode(\"B\")\n",
        "root.right = BTNode(\"C\")\n",
        "root.left.left = BTNode(\"D\")\n",
        "root.left.right = BTNode(\"E\")\n",
        "root.left.left.left = BTNode(\"G\")\n",
        "root.left.left.right = BTNode(\"H\")\n",
        "root.left.right.left = BTNode(\"I\")\n",
        "root.right.right = BTNode(\"F\")\n",
        "root.right.right.left = BTNode(\"J\")\n",
        "\n",
        "print('Given Tree Inorder Traversal: ', end = ' ')\n",
        "inorder(root)   #Given Tree Inorder Traversal: G D H B I E A C J F\n",
        "print()\n",
        "\n",
        "root2 = swap_child(root, 0, 2)\n",
        "print('Swapped Tree Inorder Traversal: ', end = ' ')\n",
        "inorder(root2)  #Swapped Tree Inorder Traversal: J F C A I E B G D H"
      ],
      "metadata": {
        "id": "0Rb_m6FRKktN",
        "colab": {
          "base_uri": "https://localhost:8080/"
        },
        "outputId": "a720e5f6-056f-4f58-dcd1-fce6c3ca4dc9"
      },
      "execution_count": null,
      "outputs": [
        {
          "output_type": "stream",
          "name": "stdout",
          "text": [
            "Given Tree Inorder Traversal:  G D H B I E A C J F \n",
            "Swapped Tree Inorder Traversal:  F J C A E I B H D G "
          ]
        }
      ]
    },
    {
      "cell_type": "markdown",
      "source": [
        "#Task 5"
      ],
      "metadata": {
        "id": "VrHklDOEKlHf"
      }
    },
    {
      "cell_type": "code",
      "source": [
        "def subtract_summation(root):\n",
        "    if root is None:\n",
        "        return 0\n",
        "\n",
        "    def sumf(root, sum=0):\n",
        "        if root is None:\n",
        "            return 0\n",
        "        left = sum + sumf(root.left, sum)\n",
        "        right = sum + sumf(root.right, sum)\n",
        "        return root.elem + left + right\n",
        "\n",
        "    leftSubTree = sumf(root.left)\n",
        "    rightSubTree = sumf(root.right)\n",
        "\n",
        "    return leftSubTree-rightSubTree\n",
        "\n",
        "\n",
        "\n",
        "#Driver Code\n",
        "root=BTNode(71)\n",
        "#Write other nodes by yourself from the given tree of Doc File\n",
        "root.left = BTNode(27)\n",
        "root.left.left = BTNode(80)\n",
        "root.left.right = BTNode(75)\n",
        "root.left.left.left = BTNode(87)\n",
        "root.left.left.right = BTNode(56)\n",
        "\n",
        "root.right = BTNode(62)\n",
        "root.right.left = BTNode(41)\n",
        "root.right.right = BTNode(3)\n",
        "root.right.right.right = BTNode(89)\n",
        "root.right.right.left = BTNode(19)\n",
        "print(subtract_summation(root)) #This should print 111"
      ],
      "metadata": {
        "id": "dMXJ2qxkNn_F",
        "colab": {
          "base_uri": "https://localhost:8080/"
        },
        "outputId": "889442e0-d590-4a0d-9834-2c473515cbbc"
      },
      "execution_count": null,
      "outputs": [
        {
          "output_type": "stream",
          "name": "stdout",
          "text": [
            "111\n"
          ]
        }
      ]
    },
    {
      "cell_type": "markdown",
      "metadata": {
        "id": "SBD-0xoZP_ni"
      },
      "source": [
        "#Task 6"
      ]
    },
    {
      "cell_type": "code",
      "source": [
        "def level_sum(root):\n",
        "\n",
        "\n",
        "#DRIVER CODE\n",
        "root = BTNode(1)\n",
        "n2 = BTNode(2)\n",
        "n3 = BTNode(3)\n",
        "n4 = BTNode(4)\n",
        "n5 = BTNode(5)\n",
        "n6 = BTNode(6)\n",
        "n7 = BTNode(7)\n",
        "n8 = BTNode(8)\n",
        "root.left = n2\n",
        "root.right = n3\n",
        "\n",
        "n2.left = n4\n",
        "n3.left = n5\n",
        "n3.right = n6\n",
        "\n",
        "n5.left = n7\n",
        "n5.right = n8\n",
        "\n",
        "\n",
        "print(level_sum(root)) #This should print 4"
      ],
      "metadata": {
        "id": "U_LYhaRIxZCb",
        "colab": {
          "base_uri": "https://localhost:8080/"
        },
        "outputId": "b4fdd4d6-e766-49b4-e18c-243c41b5739e"
      },
      "execution_count": null,
      "outputs": [
        {
          "output_type": "stream",
          "name": "stdout",
          "text": [
            "-1\n"
          ]
        }
      ]
    }
  ],
  "metadata": {
    "colab": {
      "provenance": [],
      "collapsed_sections": [
        "S2nNCJNhPqGq",
        "fpHc3y0YnwDq",
        "oQVll1PJPfdm",
        "D_8yf32QXxBW",
        "c-TBf3m0PrtK",
        "PvVmraDM5zTk",
        "pSRYF-EL8Rff",
        "JBgGrDVG6yHZ",
        "BOG7RJVw6qLY",
        "AiHGp3709DHJ",
        "Qd-PipjGbhxP"
      ],
      "include_colab_link": true
    },
    "kernelspec": {
      "display_name": "Python 3",
      "name": "python3"
    },
    "language_info": {
      "name": "python"
    }
  },
  "nbformat": 4,
  "nbformat_minor": 0
}