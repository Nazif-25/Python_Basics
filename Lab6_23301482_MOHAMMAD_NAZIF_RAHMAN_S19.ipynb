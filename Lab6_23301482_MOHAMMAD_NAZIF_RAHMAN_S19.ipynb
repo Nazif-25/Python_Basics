{
  "cells": [
    {
      "cell_type": "markdown",
      "metadata": {
        "id": "view-in-github",
        "colab_type": "text"
      },
      "source": [
        "<a href=\"https://colab.research.google.com/github/Nazif-25/Python_Basics/blob/main/Lab6_23301482_MOHAMMAD_NAZIF_RAHMAN_S19.ipynb\" target=\"_parent\"><img src=\"https://colab.research.google.com/assets/colab-badge.svg\" alt=\"Open In Colab\"/></a>"
      ]
    },
    {
      "cell_type": "markdown",
      "source": [
        "#Must run the following code:"
      ],
      "metadata": {
        "id": "jJFKuvDtn_D_"
      }
    },
    {
      "cell_type": "code",
      "execution_count": 1,
      "metadata": {
        "id": "D6vC520OPeTa"
      },
      "outputs": [],
      "source": [
        "class BTNode:\n",
        "  def __init__(self, elem):\n",
        "    self.elem = elem\n",
        "    self.right = None\n",
        "    self.left = None"
      ]
    },
    {
      "cell_type": "code",
      "execution_count": 2,
      "metadata": {
        "id": "UDTKlm4-PfNM"
      },
      "outputs": [],
      "source": [
        "def inorder(root):\n",
        "  if root == None:\n",
        "    return\n",
        "\n",
        "  inorder(root.left)\n",
        "  print(root.elem, end = ' ')\n",
        "  inorder(root.right)"
      ]
    },
    {
      "cell_type": "code",
      "execution_count": 3,
      "metadata": {
        "id": "Rtc22SPzPgzM",
        "colab": {
          "base_uri": "https://localhost:8080/"
        },
        "outputId": "ab1828f5-7a3c-4d0e-b3cc-50ca4327cec1"
      },
      "outputs": [
        {
          "output_type": "stream",
          "name": "stdout",
          "text": [
            "H D B E A I F J C G k "
          ]
        }
      ],
      "source": [
        "def tree_construction(arr, i = 1):\n",
        "  if i>=len(arr) or arr[i] == None:\n",
        "    return None\n",
        "  p = BTNode(arr[i])\n",
        "  p.left = tree_construction(arr, 2*i)\n",
        "  p.right = tree_construction(arr, 2*i+1)\n",
        "  return p\n",
        "\n",
        "\n",
        "root2 = tree_construction([None, 'A', 'B', 'C', 'D', 'E', 'F', 'G', 'H', None, None, None, 'I', 'J', None, 'k'])\n",
        "inorder(root2)"
      ]
    },
    {
      "cell_type": "markdown",
      "source": [
        "#Finding Depth and Level"
      ],
      "metadata": {
        "id": "fpHc3y0YnwDq"
      }
    },
    {
      "cell_type": "code",
      "source": [
        "def depth(root, targetValue, currentDepth):\n",
        "    if root == None:\n",
        "        return -1\n",
        "    if root.elem == targetValue:\n",
        "        return currentDepth\n",
        "    left = depth(root.left, targetValue, currentDepth+1)\n",
        "    if left!=-1:\n",
        "        return left\n",
        "    else:\n",
        "        right = depth(root.right, targetValue, currentDepth+1)\n",
        "        return right\n",
        "\n",
        "def level(node, targetValue, currentLevel):\n",
        "    if node is None:\n",
        "        return -1\n",
        "    if node.elem == targetValue:\n",
        "        return currentLevel\n",
        "    left = level(node.left, targetValue, currentLevel+1)\n",
        "    if left != -1:\n",
        "        return left\n",
        "    return level(node.right, targetValue, currentLevel+1)\n",
        "\n",
        "    # if you start counting from level 1 instead of 2\n",
        "    #     return 1+left\n",
        "    # return 1+level(node.right, targetValue, currentLevel+1)\n",
        "\n",
        "print(depth(root2, \"E\", 0))\n",
        "print(level(root2, \"E\", 0))"
      ],
      "metadata": {
        "colab": {
          "base_uri": "https://localhost:8080/"
        },
        "id": "jwBvr2-Fmt40",
        "outputId": "b4cc0785-23e1-4c14-ea78-be1d3cf2a8ec"
      },
      "execution_count": null,
      "outputs": [
        {
          "output_type": "stream",
          "name": "stdout",
          "text": [
            "2\n",
            "2\n"
          ]
        }
      ]
    },
    {
      "cell_type": "markdown",
      "source": [
        "#Finding Degree of a node\n",
        "N.B. Whenever we are looking for something, if we don't find that something then base case is : we return -1 (a sentinel)"
      ],
      "metadata": {
        "id": "oQVll1PJPfdm"
      }
    },
    {
      "cell_type": "code",
      "source": [
        "def degree(node, target):\n",
        "    if node is None:\n",
        "        return -1  # Target not found in this path\n",
        "\n",
        "    if node.elem == target:\n",
        "        value = 0\n",
        "        if node.left is not None:\n",
        "            value += 1\n",
        "        if node.right is not None:\n",
        "            value += 1\n",
        "        return value\n",
        "\n",
        "    # Search left and right\n",
        "    left = degree(node.left, target)\n",
        "    if left != -1:\n",
        "        return left\n",
        "    return degree(node.right, target)\n",
        "\n",
        "root = BTNode(\"A\")\n",
        "root.right = BTNode(\"B\")\n",
        "root.left = BTNode(\"C\")\n",
        "root.right.right = BTNode(\"D\")\n",
        "root.right.right.right = BTNode(\"E\")\n",
        "root.right.right.left = BTNode(\"F\")\n",
        "print(degree(root, \"E\"))"
      ],
      "metadata": {
        "colab": {
          "base_uri": "https://localhost:8080/"
        },
        "id": "KU0Fb_sLUAZ4",
        "outputId": "1af3ab27-6f0e-44fa-ab1b-21979cabe956"
      },
      "execution_count": null,
      "outputs": [
        {
          "output_type": "stream",
          "name": "stdout",
          "text": [
            "0\n"
          ]
        }
      ]
    },
    {
      "cell_type": "markdown",
      "source": [
        "#Finding the sum of nodes in a binary tree"
      ],
      "metadata": {
        "id": "D_8yf32QXxBW"
      }
    },
    {
      "cell_type": "code",
      "source": [
        "def find_sum(root):\n",
        "    if root is None:\n",
        "        return 0\n",
        "    left = find_sum(root.left)\n",
        "    right = find_sum(root.right)\n",
        "    return root.elem+left+right\n",
        "root = BTNode(1)\n",
        "root.right = BTNode(2)\n",
        "root.left = BTNode(3)\n",
        "root.right.right = BTNode(6)\n",
        "print(find_sum(root))"
      ],
      "metadata": {
        "colab": {
          "base_uri": "https://localhost:8080/"
        },
        "id": "RtP1py1yXvf2",
        "outputId": "67ddaa7d-13af-4448-eb71-7f3b30ca75ed"
      },
      "execution_count": null,
      "outputs": [
        {
          "output_type": "stream",
          "name": "stdout",
          "text": [
            "12\n"
          ]
        }
      ]
    },
    {
      "cell_type": "markdown",
      "source": [
        "#Finding the max value in a tree"
      ],
      "metadata": {
        "id": "PvVmraDM5zTk"
      }
    },
    {
      "cell_type": "code",
      "source": [
        "def find_max(root):\n",
        "    if root is None:\n",
        "        return float('-inf')\n",
        "    left = find_max(root.left)\n",
        "    right = find_max(root.right)\n",
        "    return max(root.elem, left, right)\n",
        "print(find_max(root))"
      ],
      "metadata": {
        "colab": {
          "base_uri": "https://localhost:8080/"
        },
        "id": "ML3x2tKg521w",
        "outputId": "a9bbd2d8-bb64-4279-d587-b726ff17f92a"
      },
      "execution_count": null,
      "outputs": [
        {
          "output_type": "stream",
          "name": "stdout",
          "text": [
            "6\n"
          ]
        }
      ]
    },
    {
      "cell_type": "markdown",
      "source": [
        "#Finding the min value in a tree"
      ],
      "metadata": {
        "id": "pSRYF-EL8Rff"
      }
    },
    {
      "cell_type": "code",
      "source": [
        "def find_min(root):\n",
        "    if root is None:\n",
        "        return float('inf')\n",
        "    left = find_min(root.left)\n",
        "    right = find_min(root.right)\n",
        "    return min(left, right, root.elem)\n",
        "print(find_min(root))"
      ],
      "metadata": {
        "colab": {
          "base_uri": "https://localhost:8080/"
        },
        "id": "9-2ERfoq8VCi",
        "outputId": "a3c3210a-e0a7-4397-d0b5-42e1fd9f9c33"
      },
      "execution_count": null,
      "outputs": [
        {
          "output_type": "stream",
          "name": "stdout",
          "text": [
            "1\n"
          ]
        }
      ]
    },
    {
      "cell_type": "markdown",
      "source": [
        "#Finding the height of a tree"
      ],
      "metadata": {
        "id": "JBgGrDVG6yHZ"
      }
    },
    {
      "cell_type": "code",
      "source": [
        "def find_height(root):\n",
        "    if root is None:\n",
        "        return -1\n",
        "    left = find_height(root.left)\n",
        "    right = find_height(root.right)\n",
        "    return 1+max(left, right)\n",
        "print(find_height(root))"
      ],
      "metadata": {
        "colab": {
          "base_uri": "https://localhost:8080/"
        },
        "id": "5xoOfcqa60nE",
        "outputId": "3f9ca87c-1ac7-454d-9d3d-21f54976e373"
      },
      "execution_count": null,
      "outputs": [
        {
          "output_type": "stream",
          "name": "stdout",
          "text": [
            "2\n"
          ]
        }
      ]
    },
    {
      "cell_type": "markdown",
      "source": [
        "#Finding the number of nodes"
      ],
      "metadata": {
        "id": "BOG7RJVw6qLY"
      }
    },
    {
      "cell_type": "code",
      "source": [
        "def count_nodes(root):\n",
        "    if root is None:\n",
        "        return 0\n",
        "    left = count_nodes(root.left)\n",
        "    right = count_nodes(root.right)\n",
        "    return 1+left+right\n",
        "    # return 1+count_nodes(root.left)+count_nodes(root.right)\n",
        "root = BTNode(1)\n",
        "root.left = BTNode(2)\n",
        "root.right = BTNode(4)\n",
        "root.left.right = BTNode(3)\n",
        "print(count_nodes(root))"
      ],
      "metadata": {
        "colab": {
          "base_uri": "https://localhost:8080/"
        },
        "id": "ta1tAB9P6teR",
        "outputId": "010539cd-fe22-4441-8901-806ea8f67a23"
      },
      "execution_count": null,
      "outputs": [
        {
          "output_type": "stream",
          "name": "stdout",
          "text": [
            "4\n"
          ]
        }
      ]
    },
    {
      "cell_type": "markdown",
      "source": [
        "#Check if it's a full binary tree"
      ],
      "metadata": {
        "id": "AiHGp3709DHJ"
      }
    },
    {
      "cell_type": "code",
      "source": [
        "def is_full(root):\n",
        "    if root is None:\n",
        "        return True\n",
        "    if (root.right is None and root.left is not None) or (root.left is None and root.right is not None):\n",
        "        return False\n",
        "    return (is_full(root.right) and is_full(root.left))\n",
        "\n",
        "root = BTNode(1)\n",
        "root.right = BTNode(2)\n",
        "root.left = BTNode(3)\n",
        "print(is_full(root))"
      ],
      "metadata": {
        "colab": {
          "base_uri": "https://localhost:8080/"
        },
        "id": "VBvk9Pi19CWq",
        "outputId": "e6d5380f-889b-4d20-8f04-095dd53f1e06"
      },
      "execution_count": null,
      "outputs": [
        {
          "output_type": "stream",
          "name": "stdout",
          "text": [
            "True\n"
          ]
        }
      ]
    },
    {
      "cell_type": "markdown",
      "source": [
        "#Check if its a balanced tree"
      ],
      "metadata": {
        "id": "wbbUAQuEp_SW"
      }
    },
    {
      "cell_type": "code",
      "source": [
        "def check_balance(root):\n",
        "    return is_balanced(root) != -1\n",
        "\n",
        "def is_balanced(root):\n",
        "    if root is None:\n",
        "        return 0\n",
        "    left = is_balanced(root.left)\n",
        "    right = is_balanced(root.right)\n",
        "    if left==-1 or right==-1 or abs(left-right)>1:\n",
        "        return -1\n",
        "    return max(left, right)+1\n",
        "print(check_balance(root))"
      ],
      "metadata": {
        "colab": {
          "base_uri": "https://localhost:8080/"
        },
        "id": "-NaTrSJeqFhM",
        "outputId": "2b5e44de-710e-437a-f9e8-40069e4a2081"
      },
      "execution_count": 39,
      "outputs": [
        {
          "output_type": "stream",
          "name": "stdout",
          "text": [
            "True\n"
          ]
        }
      ]
    },
    {
      "cell_type": "markdown",
      "source": [
        "#Tree\n"
      ],
      "metadata": {
        "id": "saqeI-hgZgd2"
      }
    },
    {
      "cell_type": "code",
      "source": [
        "root = BTNode(1)\n",
        "root.right = BTNode(2)\n",
        "root.right.right = BTNode(3)\n",
        "root.right.left = BTNode(4)\n",
        "root.left = BTNode(2)\n",
        "root.left.left = BTNode(3)\n",
        "root.left.right = BTNode(4)\n",
        "root.left.left.right = BTNode(5)\n",
        "# print(\"In order: \",end=\" \")\n",
        "# inOrder(root)\n",
        "# print(\"Pre order: \",end=\" \")\n",
        "# preOrder(root)\n",
        "# print(\"Post order: \",end=\" \")\n",
        "# postOrder(root)"
      ],
      "metadata": {
        "id": "B48LoAdmZfPS"
      },
      "execution_count": 38,
      "outputs": []
    },
    {
      "cell_type": "markdown",
      "source": [
        "#Is symmetric"
      ],
      "metadata": {
        "id": "Qd-PipjGbhxP"
      }
    },
    {
      "cell_type": "code",
      "source": [
        "def isSymmetric(root):\n",
        "    arr = []\n",
        "    def inOrder(root):\n",
        "        if root is None:\n",
        "            return\n",
        "        inOrder(root.left)\n",
        "        arr.append(root.elem)\n",
        "        inOrder(root.right)\n",
        "\n",
        "    inOrder(root)\n",
        "    i = 0\n",
        "    j = len(arr)-1\n",
        "    state = True\n",
        "    while i<j:\n",
        "        if arr[i] == arr[j]:\n",
        "            state = True\n",
        "        else:\n",
        "            state = False\n",
        "        i+=1\n",
        "        j-=1\n",
        "    return state\n",
        "\n",
        "print(isSymmetric(root))"
      ],
      "metadata": {
        "colab": {
          "base_uri": "https://localhost:8080/"
        },
        "id": "XNg7QJJ4bj8U",
        "outputId": "25fb8944-aed4-4680-fe9f-3de7135d0817"
      },
      "execution_count": null,
      "outputs": [
        {
          "output_type": "stream",
          "name": "stdout",
          "text": [
            "False\n"
          ]
        }
      ]
    },
    {
      "cell_type": "code",
      "source": [
        "# Better Approach\n",
        "def is_symmetric(root):\n",
        "    def is_symmetric_help(leftNode, rightNode):\n",
        "\n",
        "        if leftNode == None or rightNode == None:\n",
        "            return leftNode == rightNode\n",
        "\n",
        "        if leftNode.elem != rightNode.elem:\n",
        "            return False\n",
        "\n",
        "        return is_symmetric_help(leftNode.left, rightNode.right) and is_symmetric_help(leftNode.right, rightNode.left)\n",
        "\n",
        "    return root==None or is_symmetric_help(root.left, root.right)\n",
        "\n",
        "print(is_symmetric(root))\n"
      ],
      "metadata": {
        "colab": {
          "base_uri": "https://localhost:8080/"
        },
        "id": "r9R-sRXtiF0Z",
        "outputId": "82a409fa-dc26-43eb-ce69-41b67f06e7bb"
      },
      "execution_count": null,
      "outputs": [
        {
          "output_type": "stream",
          "name": "stdout",
          "text": [
            "False\n"
          ]
        }
      ]
    },
    {
      "cell_type": "markdown",
      "source": [
        "#Is identical"
      ],
      "metadata": {
        "id": "cgvnlLOPryaH"
      }
    },
    {
      "cell_type": "code",
      "source": [
        "def is_identical(root1, root2):\n",
        "    def is_identical_helper(tree1_node, tree2_node):\n",
        "        if tree1_node == None or tree2_node == None:\n",
        "            return tree1_node == tree2_node\n",
        "        if tree1_node.elem != tree2_node.elem:\n",
        "            return False\n",
        "        return (is_identical_helper(tree1_node.left, tree2_node.left) and is_identical_helper(tree1_node.right, tree2_node.right))\n",
        "\n",
        "    return root==None or (is_identical_helper(root1.left, root2.left) and is_identical_helper(root1.right, root2.right))\n",
        "\n",
        "root1 = BTNode(1)\n",
        "root1.right = BTNode(3)\n",
        "root1.left = BTNode(2)\n",
        "root2.right.right = BTNode(5)\n",
        "\n",
        "root2 = BTNode(1)\n",
        "root2.right = BTNode(3)\n",
        "root2.left = BTNode(2)\n",
        "root2.right.right = BTNode(4)\n",
        "\n",
        "print(is_identical(root1, root2))"
      ],
      "metadata": {
        "id": "PMH8NfElr0PJ",
        "colab": {
          "base_uri": "https://localhost:8080/"
        },
        "outputId": "ea9bfc9f-cc09-4045-f610-322d0bbee646"
      },
      "execution_count": null,
      "outputs": [
        {
          "output_type": "stream",
          "name": "stdout",
          "text": [
            "False\n"
          ]
        }
      ]
    },
    {
      "cell_type": "markdown",
      "source": [
        "#is height balanced"
      ],
      "metadata": {
        "id": "n-TFVXuNzWu8"
      }
    },
    {
      "cell_type": "code",
      "source": [
        "def is_height_balanced(root):\n",
        "    def get_height(tree_node):\n",
        "        if tree_node  is None:\n",
        "            return -1\n",
        "        left = get_height(tree_node.left)\n",
        "        right = get_height(tree_node.right)\n",
        "        return 1+max(left, right)\n",
        "\n",
        "\n",
        "    return root==None or (1+get_height(root.left))-(1+get_height(root.right))<=1\n",
        "\n",
        "root = BTNode(1)\n",
        "root.left = BTNode(2)\n",
        "root.left.right = BTNode(3)\n",
        "root.right = BTNode(4)\n",
        "\n",
        "print(is_height_balanced(root))"
      ],
      "metadata": {
        "colab": {
          "base_uri": "https://localhost:8080/"
        },
        "id": "hR0Jk-AezZGd",
        "outputId": "cfdfd3c5-8b0a-41dc-cc8b-8dd09c8af363"
      },
      "execution_count": null,
      "outputs": [
        {
          "output_type": "stream",
          "name": "stdout",
          "text": [
            "True\n"
          ]
        }
      ]
    },
    {
      "cell_type": "markdown",
      "source": [
        "# Exercise 5.11 Find out if the sum of children nodes is equal to the root"
      ],
      "metadata": {
        "id": "Bh75F01SH_pl"
      }
    },
    {
      "cell_type": "code",
      "source": [
        "def func(root):\n",
        "    def sum(root):\n",
        "        if root is None:\n",
        "            return 0\n",
        "        left = sum(root.left)\n",
        "        right = sum(root.right)\n",
        "        return root.elem+left+right\n",
        "\n",
        "    return root==None or (root.elem==sum(root.left)+sum(root.right))\n",
        "\n",
        "root = BTNode(10)\n",
        "root.left = BTNode(10)\n",
        "root.right = BTNode(11)\n",
        "print(func(root))\n"
      ],
      "metadata": {
        "colab": {
          "base_uri": "https://localhost:8080/"
        },
        "id": "6OVSP5YbIIJC",
        "outputId": "a7214e5b-1642-498d-b6a1-eef3248e18ef"
      },
      "execution_count": null,
      "outputs": [
        {
          "output_type": "stream",
          "name": "stdout",
          "text": [
            "False\n"
          ]
        }
      ]
    },
    {
      "cell_type": "markdown",
      "source": [
        "#Exercise 5.12 Find out the max value of each level in a binary tree"
      ],
      "metadata": {
        "id": "7MQwTyU4K-AK"
      }
    },
    {
      "cell_type": "code",
      "source": [
        "def func(root, dict={}, level=0):\n",
        "    if root is None:\n",
        "        return\n",
        "    if level not in dict:\n",
        "        dict[level] = root.elem\n",
        "    else:\n",
        "        if root.elem>dict[level]:\n",
        "            dict[level] = root.elem\n",
        "    func(root.left, dict, level+1)\n",
        "    func(root.right, dict, level+1)\n",
        "    return dict\n",
        "root = BTNode(4)\n",
        "root.left = BTNode(9)\n",
        "root.left.left = BTNode(3)\n",
        "root.left.right = BTNode(-5)\n",
        "root.right = BTNode(2)\n",
        "root.right.right = BTNode(7)\n",
        "print(func(root))\n"
      ],
      "metadata": {
        "colab": {
          "base_uri": "https://localhost:8080/"
        },
        "id": "R0r2Z1lALGqa",
        "outputId": "d87c6291-a7a5-4341-c21d-e8e7253c4767"
      },
      "execution_count": null,
      "outputs": [
        {
          "output_type": "stream",
          "name": "stdout",
          "text": [
            "{0: 4, 1: 9, 2: 7}\n"
          ]
        }
      ]
    },
    {
      "cell_type": "markdown",
      "source": [
        "#Exercise 5.13 Find duplicates"
      ],
      "metadata": {
        "id": "jrL6peXPNR4j"
      }
    },
    {
      "cell_type": "code",
      "source": [
        "def find_duplicate(root, list=[]):\n",
        "    if root is None:\n",
        "        return None\n",
        "    if root.elem in list:\n",
        "        return True\n",
        "\n",
        "    list.append(root.elem)\n",
        "\n",
        "    left = find_duplicate(root.left, list)\n",
        "    if left:\n",
        "        return left\n",
        "\n",
        "    right = find_duplicate(root.right, list)\n",
        "    if right:\n",
        "        return right\n",
        "\n",
        "    return False\n",
        "\n",
        "\n",
        "\n",
        "root = BTNode(4)\n",
        "root.left = BTNode(2)\n",
        "# root.right = BTNode(1)\n",
        "# root.left.right=  BTNode(1)\n",
        "# root.right.right = BTNode(2)\n",
        "print(find_duplicate(root))"
      ],
      "metadata": {
        "colab": {
          "base_uri": "https://localhost:8080/"
        },
        "id": "1L9NGtjsNX_L",
        "outputId": "576101c4-7214-4296-c390-75d4c2ca7488"
      },
      "execution_count": null,
      "outputs": [
        {
          "output_type": "stream",
          "name": "stdout",
          "text": [
            "False\n"
          ]
        }
      ]
    },
    {
      "cell_type": "markdown",
      "source": [
        "#Exercise 5.15 Find ancestors of a given node"
      ],
      "metadata": {
        "id": "KlNlTPuBY-gq"
      }
    },
    {
      "cell_type": "code",
      "source": [
        "def find_ancestor(root, key):\n",
        "    if root is None:\n",
        "        return False\n",
        "    if root.elem == key:\n",
        "        return True\n",
        "    if(find_ancestor(root.left, key) or find_ancestor(root.right, key)):\n",
        "        print(f\"{root.elem}\", end=\" \")\n",
        "        return True\n",
        "    return False\n",
        "root = BTNode(1)\n",
        "root.left = BTNode(2)\n",
        "root.right = BTNode(3)\n",
        "root.right.right = BTNode(4)\n",
        "find_ancestor(root, 4)"
      ],
      "metadata": {
        "colab": {
          "base_uri": "https://localhost:8080/"
        },
        "id": "e2m28FOHZC1u",
        "outputId": "e5ead4b6-e01e-49e9-a7cc-cb50003600e1"
      },
      "execution_count": null,
      "outputs": [
        {
          "output_type": "stream",
          "name": "stdout",
          "text": [
            "3 1 "
          ]
        },
        {
          "output_type": "execute_result",
          "data": {
            "text/plain": [
              "True"
            ]
          },
          "metadata": {},
          "execution_count": 37
        }
      ]
    },
    {
      "cell_type": "markdown",
      "source": [
        "#In order traversal\n",
        "N.B. sorts the data in ascending order"
      ],
      "metadata": {
        "id": "YvtAbRPZ-mfZ"
      }
    },
    {
      "cell_type": "code",
      "source": [
        "def inOrder(root):\n",
        "    if root is None:\n",
        "        return\n",
        "    inOrder(root.left)\n",
        "    print(f\"{root.elem}\", end=\" \")\n",
        "    inOrder(root.right)\n",
        "\n",
        "inOrder(root)"
      ],
      "metadata": {
        "colab": {
          "base_uri": "https://localhost:8080/"
        },
        "id": "iD39DZ25-p90",
        "outputId": "207547d5-e71f-46e0-859f-3e78fe563edd"
      },
      "execution_count": null,
      "outputs": [
        {
          "output_type": "stream",
          "name": "stdout",
          "text": [
            "3 1 2 6 "
          ]
        }
      ]
    },
    {
      "cell_type": "markdown",
      "source": [
        "#Post order traversal"
      ],
      "metadata": {
        "id": "MVCTRhjN_UOa"
      }
    },
    {
      "cell_type": "code",
      "source": [
        "def postOrder(root):\n",
        "    if root is None:\n",
        "        return\n",
        "    postOrder(root.left)\n",
        "    postOrder(root.right)\n",
        "    print(f\"{root.elem}\", end=\" \")\n",
        "postOrder(root)"
      ],
      "metadata": {
        "colab": {
          "base_uri": "https://localhost:8080/"
        },
        "id": "bL_Bh3_c_T0M",
        "outputId": "3d3f3efe-80e5-40b5-b01e-9ef066db469a"
      },
      "execution_count": null,
      "outputs": [
        {
          "output_type": "stream",
          "name": "stdout",
          "text": [
            "3 4 2 4 3 2 1 "
          ]
        }
      ]
    },
    {
      "cell_type": "markdown",
      "source": [
        "#Pre order traversal"
      ],
      "metadata": {
        "id": "lF-M5mtk_lwJ"
      }
    },
    {
      "cell_type": "code",
      "source": [
        "def preOrder(root):\n",
        "    if root is None:\n",
        "        return\n",
        "    print(f\"{root.elem}\", end=\" \")\n",
        "    preOrder(root.left)\n",
        "    preOrder(root.right)\n",
        "preOrder(root)"
      ],
      "metadata": {
        "colab": {
          "base_uri": "https://localhost:8080/"
        },
        "id": "pyVcIBYu_meh",
        "outputId": "00b7db2c-b1b8-482a-b9b0-fb65f425eec0"
      },
      "execution_count": null,
      "outputs": [
        {
          "output_type": "stream",
          "name": "stdout",
          "text": [
            "1 2 3 4 2 4 3 "
          ]
        }
      ]
    },
    {
      "cell_type": "markdown",
      "source": [
        "#Set B Binary Tree"
      ],
      "metadata": {
        "id": "HTbG0oBPLv6r"
      }
    },
    {
      "cell_type": "code",
      "source": [
        "def update(tree1, tree2, k):\n",
        "    # Base case: if there's no node in tree2, do nothing\n",
        "    if tree2 is None:\n",
        "        return\n",
        "\n",
        "    # If both nodes exist and have the same value, double the value in tree2\n",
        "    if tree1 is not None and tree1.elem == tree2.elem:\n",
        "        tree2.elem = tree2.elem + tree1.elem\n",
        "    else:\n",
        "        # If tree2's value is divisible by k, set it to 100\n",
        "        if tree2.elem % k == 0:\n",
        "            tree2.elem = 100\n",
        "\n",
        "    # Recursively update the left children\n",
        "    if tree1 is not None:\n",
        "        update(tree1.left, tree2.left, k)\n",
        "        update(tree1.right, tree2.right, k)\n",
        "    else:\n",
        "        update(None, tree2.left, k)\n",
        "        update(None, tree2.right, k)\n",
        "\n",
        "    return tree2\n",
        "tree1 = BTNode(6)\n",
        "tree1.left = BTNode(5)\n",
        "tree1.left.left = BTNode(2)\n",
        "tree1.left.right = BTNode(3)\n",
        "\n",
        "tree2 = BTNode(6)\n",
        "tree2.left = BTNode(1)\n",
        "tree2.right = BTNode(6)\n",
        "tree2.left.left = BTNode(2)\n",
        "tree2.left.right = BTNode(9)\n",
        "\n",
        "v = update(tree1, tree2, 3)\n",
        "inOrder(v)"
      ],
      "metadata": {
        "colab": {
          "base_uri": "https://localhost:8080/"
        },
        "id": "mVlcWDCBaEKz",
        "outputId": "54d433bd-f336-4f74-f526-744703a51d92"
      },
      "execution_count": null,
      "outputs": [
        {
          "output_type": "stream",
          "name": "stdout",
          "text": [
            "4 1 100 12 100 "
          ]
        }
      ]
    },
    {
      "cell_type": "code",
      "source": [
        "def update(tree1, tree2, k):\n",
        "    if tree1 is None or tree2 is None:\n",
        "        return\n",
        "    if tree1.elem == tree2.elem:\n",
        "        val = tree2.elem\n",
        "        tree2.elem = val+tree1.elem\n",
        "    else:\n",
        "        if tree2.elem % k == 0:\n",
        "            tree2.elem = 100\n",
        "        else:\n",
        "            tree2.elem = tree2.elem\n",
        "\n",
        "    update(tree1.left, tree2.left, k)\n",
        "\n",
        "    update(tree1.right, tree2.right, k)\n",
        "    return tree2\n",
        "tree1 = BTNode(6)\n",
        "tree1.left = BTNode(5)\n",
        "tree1.left.left = BTNode(2)\n",
        "tree1.left.right = BTNode(3)\n",
        "\n",
        "tree2 = BTNode(6)\n",
        "tree2.left = BTNode(1)\n",
        "tree2.right = BTNode(6)\n",
        "tree2.left.left = BTNode(2)\n",
        "tree2.left.right = BTNode(9)\n",
        "\n",
        "v = update(tree1, tree2, 3)\n",
        "inOrder(v)\n"
      ],
      "metadata": {
        "colab": {
          "base_uri": "https://localhost:8080/"
        },
        "id": "ja1gg4aYLyaA",
        "outputId": "f07a4b56-f06f-404c-fbb9-1fb030e2ff28"
      },
      "execution_count": null,
      "outputs": [
        {
          "output_type": "stream",
          "name": "stdout",
          "text": [
            "4 1 100 12 6 "
          ]
        }
      ]
    },
    {
      "cell_type": "code",
      "source": [
        "def update(tree1, tree2, k):\n",
        "    if tree2 is None:\n",
        "        return\n",
        "\n",
        "    if tree1 is not None and tree1.elem == tree2.elem:\n",
        "        tree2.elem = tree1.elem + tree2.elem\n",
        "    elif tree2.elem % k == 0:\n",
        "        tree2.elem = 100\n",
        "\n",
        "    update(tree1.left if tree1 else None, tree2.left, k)\n",
        "    update(tree1.right if tree1 else None, tree2.right, k)\n",
        "    return tree2\n",
        "\n",
        "# Build the trees\n",
        "tree1 = BTNode(6)\n",
        "tree1.left = BTNode(5)\n",
        "tree1.left.left = BTNode(2)\n",
        "tree1.left.right = BTNode(3)\n",
        "\n",
        "tree2 = BTNode(6)\n",
        "tree2.left = BTNode(1)\n",
        "tree2.right = BTNode(6)\n",
        "tree2.left.left = BTNode(2)\n",
        "tree2.left.right = BTNode(9)\n",
        "\n",
        "# Update and print\n",
        "v = update(tree1, tree2, 3)\n",
        "inOrder(v)"
      ],
      "metadata": {
        "colab": {
          "base_uri": "https://localhost:8080/"
        },
        "id": "UD0r2ESoXoUd",
        "outputId": "a354635d-4a6d-46cb-a28b-731088cd4d04"
      },
      "execution_count": null,
      "outputs": [
        {
          "output_type": "stream",
          "name": "stdout",
          "text": [
            "4 1 100 12 100 "
          ]
        }
      ]
    },
    {
      "cell_type": "markdown",
      "metadata": {
        "id": "S2nNCJNhPqGq"
      },
      "source": [
        "#Task 1"
      ]
    },
    {
      "cell_type": "code",
      "source": [
        "def convert_mirror(root):\n",
        "    #To Do\n",
        "    if root is None:\n",
        "        return\n",
        "    convert_mirror(root.left)\n",
        "    convert_mirror(root.right)\n",
        "    root.left, root.right = root.right, root.left\n",
        "    return root\n",
        "\n",
        "\n",
        "#DRIVER CODE\n",
        "root = BTNode(10)\n",
        "n1 = BTNode(20)\n",
        "n2 = BTNode(30)\n",
        "n3 = BTNode(40)\n",
        "n4 = BTNode(60)\n",
        "\n",
        "root.left = n1\n",
        "root.right = n2\n",
        "\n",
        "n1.left = n3\n",
        "n1.right = n4\n",
        "\n",
        "print('Given Tree Inorder Traversal: ', end = ' ')\n",
        "inorder(root) #Given Tree Inorder Traversal:  40 20 60 10 30\n",
        "print()\n",
        "\n",
        "root2 = convert_mirror(root)\n",
        "print('Mirrored Tree Inorder Traversal: ', end = ' ')\n",
        "inorder(root2) #Mirrored Tree Inorder Traversal:  30 10 60 20 40"
      ],
      "metadata": {
        "colab": {
          "base_uri": "https://localhost:8080/"
        },
        "id": "Lhr7rE5BQJNt",
        "outputId": "4bcc2823-3a8c-49c2-be07-4453d7be1a04"
      },
      "execution_count": 10,
      "outputs": [
        {
          "output_type": "stream",
          "name": "stdout",
          "text": [
            "Given Tree Inorder Traversal:  40 20 60 10 30 \n",
            "Mirrored Tree Inorder Traversal:  30 10 60 20 40 "
          ]
        }
      ]
    },
    {
      "cell_type": "code",
      "execution_count": 4,
      "metadata": {
        "id": "zbBHU3FoPieb",
        "colab": {
          "base_uri": "https://localhost:8080/"
        },
        "outputId": "b13d74b5-adad-4b08-d9ef-ebb8f034de44"
      },
      "outputs": [
        {
          "output_type": "stream",
          "name": "stdout",
          "text": [
            "Given Tree Inorder Traversal:  40 20 60 10 30 \n",
            "Mirrored Tree Inorder Traversal:  30 10 60 20 40 "
          ]
        }
      ],
      "source": [
        "def convert_mirror(root):\n",
        "    #To Do\n",
        "    if root == None:\n",
        "        return None\n",
        "\n",
        "    copied_root = BTNode(root.elem)\n",
        "    copied_root.left = convert_mirror(root.right)\n",
        "    copied_root.right = convert_mirror(root.left)\n",
        "\n",
        "    return copied_root\n",
        "\n",
        "#DRIVER CODE\n",
        "root = BTNode(10)\n",
        "n1 = BTNode(20)\n",
        "n2 = BTNode(30)\n",
        "n3 = BTNode(40)\n",
        "n4 = BTNode(60)\n",
        "\n",
        "root.left = n1\n",
        "root.right = n2\n",
        "\n",
        "n1.left = n3\n",
        "n1.right = n4\n",
        "\n",
        "print('Given Tree Inorder Traversal: ', end = ' ')\n",
        "inorder(root) #Given Tree Inorder Traversal:  40 20 60 10 30\n",
        "print()\n",
        "\n",
        "root2 = convert_mirror(root)a\n",
        "print('Mirrored Tree Inorder Traversal: ', end = ' ')\n",
        "inorder(root2) #Mirrored Tree Inorder Traversal:  30 10 60 20 40"
      ]
    },
    {
      "cell_type": "markdown",
      "metadata": {
        "id": "c-TBf3m0PrtK"
      },
      "source": [
        "#Task 2"
      ]
    },
    {
      "cell_type": "code",
      "execution_count": null,
      "metadata": {
        "id": "lsuxinlBPmji",
        "colab": {
          "base_uri": "https://localhost:8080/"
        },
        "outputId": "9e0adb91-bf0e-4b88-a7cf-2bf4405913f5"
      },
      "outputs": [
        {
          "output_type": "stream",
          "name": "stdout",
          "text": [
            "Given Tree Inorder Traversal:  3 9 -5 4 2 7 \n",
            "Level Wise Smallest Value:  {0: 4, 1: 2, 2: -5}\n"
          ]
        }
      ],
      "source": [
        "def smallest_level(root, level = {}, i = 0):\n",
        "    #To Do\n",
        "    if root is None:\n",
        "        return\n",
        "\n",
        "    if i not in level:\n",
        "        level[i] = root.elem\n",
        "    else:\n",
        "        if level[i]>root.elem:\n",
        "            level[i] = root.elem\n",
        "\n",
        "    smallest_level(root.left, level, i+1)\n",
        "\n",
        "    smallest_level(root.right, level, i+1)\n",
        "\n",
        "    return level\n",
        "\n",
        "\n",
        "#DRIVER CODE\n",
        "root = tree_construction([None, 4,9,2,3,-5,None,7])\n",
        "print('Given Tree Inorder Traversal: ', end = ' ')\n",
        "inorder(root) #Given Tree Inorder Traversal:  3 9 5 4 2 7\n",
        "print()\n",
        "print('Level Wise Smallest Value: ', end = ' ')\n",
        "print(smallest_level(root)) #Level Wise Smallest Value:  {0: 4, 1: 2, 2: -5}"
      ]
    },
    {
      "cell_type": "markdown",
      "metadata": {
        "id": "t3IGW4OaP8Vy"
      },
      "source": [
        "#Task 3"
      ]
    },
    {
      "cell_type": "code",
      "source": [
        "def function(node, level):\n",
        "    if node == None:\n",
        "        return 0\n",
        "\n",
        "    if level == 0:\n",
        "        sum = node.elem\n",
        "    else:\n",
        "        sum = node.elem % level\n",
        "\n",
        "    leftSum = function(node.left, level+1)\n",
        "    rightSum = function(node.right, level+1)\n",
        "    return sum + leftSum + rightSum\n",
        "\n",
        "def sumTree(root):\n",
        "    findSum = function(root, 0)\n",
        "    return findSum\n",
        "# To DO\n",
        "#you can declare as many helper function with extra parameters as you need .\n",
        "#You can not modify the parameters of sumTree or modify any part of the given code."
      ],
      "metadata": {
        "id": "XXZQ131dK702"
      },
      "execution_count": null,
      "outputs": []
    },
    {
      "cell_type": "code",
      "source": [
        "#Driver Code\n",
        "#Input 1\n",
        "root1 = BTNode(9)\n",
        "node2 = BTNode(4)\n",
        "node3 = BTNode(5)\n",
        "node4 = BTNode(18)\n",
        "node5 = BTNode(14)\n",
        "node6 = BTNode(3)\n",
        "node7 = BTNode(54)\n",
        "node8 = BTNode(12)\n",
        "node9 = BTNode(8)\n",
        "node10 = BTNode(91)\n",
        "node11 = BTNode(56)\n",
        "\n",
        "root1.left = node2\n",
        "root1.right = node3\n",
        "\n",
        "node2.left = node4\n",
        "\n",
        "node3.left = node5\n",
        "node3.right = node6\n",
        "\n",
        "node4.left = node7\n",
        "node4.right = node8\n",
        "\n",
        "node5.left = node9\n",
        "\n",
        "node8.left = node10\n",
        "node8.right = node11\n",
        "\n",
        "print(sumTree(root1)) #This should print 15"
      ],
      "metadata": {
        "id": "wV3ezsf_Kwli",
        "colab": {
          "base_uri": "https://localhost:8080/"
        },
        "outputId": "eb01845b-073f-4b5a-a632-aa7616b44001"
      },
      "execution_count": null,
      "outputs": [
        {
          "output_type": "stream",
          "name": "stdout",
          "text": [
            "15\n"
          ]
        }
      ]
    },
    {
      "cell_type": "markdown",
      "source": [
        "#Task 4\n"
      ],
      "metadata": {
        "id": "8GJeWub8Ki1X"
      }
    },
    {
      "cell_type": "code",
      "source": [
        "def swap_child(root, level, M):\n",
        "  #To Do\n",
        "    def swap(root,level=0):\n",
        "        if root != None:\n",
        "            if M>level:\n",
        "                root.right, root.left = root.left, root.right\n",
        "\n",
        "            swap(root.left, level+1)\n",
        "            swap(root.right, level+1)\n",
        "\n",
        "            return root\n",
        "\n",
        "    return swap(root)\n",
        "\n",
        "\n",
        "#Driver Code\n",
        "root=BTNode('A')\n",
        "#Write other nodes by yourself from the given tree of Doc File\n",
        "root.left = BTNode(\"B\")\n",
        "root.right = BTNode(\"C\")\n",
        "root.left.left = BTNode(\"D\")\n",
        "root.left.right = BTNode(\"E\")\n",
        "root.left.left.left = BTNode(\"G\")\n",
        "root.left.left.right = BTNode(\"H\")\n",
        "root.left.right.left = BTNode(\"I\")\n",
        "root.right.right = BTNode(\"F\")\n",
        "root.right.right.left = BTNode(\"J\")\n",
        "\n",
        "print('Given Tree Inorder Traversal: ', end = ' ')\n",
        "inorder(root)   #Given Tree Inorder Traversal: G D H B I E A C J F\n",
        "print()\n",
        "\n",
        "root2 = swap_child(root, 0, 2)\n",
        "print('Swapped Tree Inorder Traversal: ', end = ' ')\n",
        "inorder(root2)  #Swapped Tree Inorder Traversal: J F C A I E B G D H"
      ],
      "metadata": {
        "id": "0Rb_m6FRKktN",
        "colab": {
          "base_uri": "https://localhost:8080/"
        },
        "outputId": "6fb6bc72-7493-4f00-b0c4-2fbcb2862882"
      },
      "execution_count": 5,
      "outputs": [
        {
          "output_type": "stream",
          "name": "stdout",
          "text": [
            "Given Tree Inorder Traversal:  G D H B I E A C J F \n",
            "Swapped Tree Inorder Traversal:  J F C A I E B G D H "
          ]
        }
      ]
    },
    {
      "cell_type": "markdown",
      "source": [
        "#Task 5"
      ],
      "metadata": {
        "id": "VrHklDOEKlHf"
      }
    },
    {
      "cell_type": "code",
      "source": [
        "def subtract_summation(root):\n",
        "    if root is None:\n",
        "        return 0\n",
        "\n",
        "    def sum(root):\n",
        "        if root is None:\n",
        "            return 0\n",
        "        left = sum(root.left)\n",
        "        right = sum(root.right)\n",
        "        return root.elem + left + right\n",
        "\n",
        "    leftSubTree = sum(root.left)\n",
        "    rightSubTree = sum(root.right)\n",
        "\n",
        "    return leftSubTree-rightSubTree\n",
        "\n",
        "\n",
        "\n",
        "#Driver Code\n",
        "root=BTNode(71)\n",
        "#Write other nodes by yourself from the given tree of Doc File\n",
        "root.left = BTNode(27)\n",
        "root.left.left = BTNode(80)\n",
        "root.left.right = BTNode(75)\n",
        "root.left.left.left = BTNode(87)\n",
        "root.left.left.right = BTNode(56)\n",
        "\n",
        "root.right = BTNode(62)\n",
        "root.right.left = BTNode(41)\n",
        "root.right.right = BTNode(3)\n",
        "root.right.right.right = BTNode(89)\n",
        "root.right.right.left = BTNode(19)\n",
        "print(subtract_summation(root)) #This should print 111"
      ],
      "metadata": {
        "id": "dMXJ2qxkNn_F",
        "colab": {
          "base_uri": "https://localhost:8080/"
        },
        "outputId": "5f8d9e27-9a2e-46bf-89e7-0dd3713299bc"
      },
      "execution_count": 5,
      "outputs": [
        {
          "output_type": "stream",
          "name": "stdout",
          "text": [
            "111\n"
          ]
        }
      ]
    },
    {
      "cell_type": "markdown",
      "metadata": {
        "id": "SBD-0xoZP_ni"
      },
      "source": [
        "#Task 6"
      ]
    },
    {
      "cell_type": "code",
      "source": [
        "def level_sum(root):\n",
        "    def get_lvl(root, curr_lvl):\n",
        "        if root is None:\n",
        "            return 0\n",
        "        if curr_lvl%2==0:\n",
        "            left = get_lvl(root.left, curr_lvl+1)\n",
        "            right = get_lvl(root.right, curr_lvl+1)\n",
        "            return -root.elem+left+right\n",
        "        else:\n",
        "            left = get_lvl(root.left, curr_lvl+1)\n",
        "            right = get_lvl(root.right, curr_lvl+1)\n",
        "            return root.elem+left+right\n",
        "    return get_lvl(root, 0)\n",
        "\n",
        "\n",
        "#DRIVER CODE\n",
        "root = BTNode(1)\n",
        "n2 = BTNode(2)\n",
        "n3 = BTNode(3)\n",
        "n4 = BTNode(4)\n",
        "n5 = BTNode(5)\n",
        "n6 = BTNode(6)\n",
        "n7 = BTNode(7)\n",
        "n8 = BTNode(8)\n",
        "root.left = n2\n",
        "root.right = n3\n",
        "n2.left = n4\n",
        "n3.left = n5\n",
        "n3.right = n6\n",
        "n5.left = n7\n",
        "n5.right = n8\n",
        "\n",
        "print(level_sum(root)) #This should print 4"
      ],
      "metadata": {
        "id": "U_LYhaRIxZCb",
        "colab": {
          "base_uri": "https://localhost:8080/"
        },
        "outputId": "8b91a982-54e4-459c-dfc6-9fbba8ff90fb"
      },
      "execution_count": 6,
      "outputs": [
        {
          "output_type": "stream",
          "name": "stdout",
          "text": [
            "4\n"
          ]
        }
      ]
    }
  ],
  "metadata": {
    "colab": {
      "provenance": [],
      "collapsed_sections": [
        "S2nNCJNhPqGq",
        "fpHc3y0YnwDq",
        "oQVll1PJPfdm",
        "D_8yf32QXxBW",
        "c-TBf3m0PrtK",
        "PvVmraDM5zTk",
        "pSRYF-EL8Rff",
        "JBgGrDVG6yHZ",
        "BOG7RJVw6qLY",
        "AiHGp3709DHJ",
        "Qd-PipjGbhxP"
      ],
      "include_colab_link": true
    },
    "kernelspec": {
      "display_name": "Python 3",
      "name": "python3"
    },
    "language_info": {
      "name": "python"
    }
  },
  "nbformat": 4,
  "nbformat_minor": 0
}